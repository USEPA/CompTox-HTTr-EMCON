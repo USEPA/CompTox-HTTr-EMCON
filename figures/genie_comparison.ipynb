{
 "cells": [
  {
   "cell_type": "code",
   "execution_count": 1,
   "metadata": {
    "collapsed": true
   },
   "outputs": [],
   "source": [
    "import pandas as pd\n",
    "import matplotlib.pyplot as plt\n",
    "import matplotlib\n",
    "import seaborn as sns\n",
    "import pymongo\n",
    "import pickle\n",
    "from scipy.stats import spearmanr,mannwhitneyu\n",
    "import matplotlib.patches as mpatches\n",
    "\n",
    "\n",
    "%matplotlib inline\n",
    "sns.set_context(\"poster\")"
   ]
  },
  {
   "cell_type": "code",
   "execution_count": 2,
   "metadata": {
    "collapsed": true
   },
   "outputs": [],
   "source": [
    "client = pymongo.MongoClient()\n",
    "db = client.swatford"
   ]
  },
  {
   "cell_type": "code",
   "execution_count": 3,
   "metadata": {
    "collapsed": true
   },
   "outputs": [],
   "source": [
    "gene_uid = pd.read_pickle(\"../data/SSI/gene_uid.p\")"
   ]
  },
  {
   "cell_type": "code",
   "execution_count": 4,
   "metadata": {
    "collapsed": true
   },
   "outputs": [],
   "source": [
    "%run ../scripts/equations.py"
   ]
  },
  {
   "cell_type": "code",
   "execution_count": 5,
   "metadata": {
    "collapsed": true
   },
   "outputs": [],
   "source": [
    "n = db.genes.descs.original.find().count()\n",
    "gene_uid[\"pmi\"] = pmi(gene_uid.gd_freq.values,gene_uid.d_freq.values,gene_uid.g_freq.values,n)\n",
    "gene_uid[\"npmi\"] = npmi(gene_uid.pmi.values,gene_uid.gd_freq.values,n)"
   ]
  },
  {
   "cell_type": "code",
   "execution_count": 6,
   "metadata": {
    "collapsed": true
   },
   "outputs": [],
   "source": [
    "bc_uids = [\"D009389\",\"D018919\",\"D017209\",\"D002453\",\"D057890\",\"D004249\",\"D004260\",\"D013006\",\"D002470\",\"D007107\",\n",
    "    \"D007249\",\"D001940\",\"D001941\",\"D018384\",\"D049109\",\"D012739\",\"D015262\"]"
   ]
  },
  {
   "cell_type": "code",
   "execution_count": 7,
   "metadata": {
    "collapsed": true
   },
   "outputs": [],
   "source": [
    "desc_children = []\n",
    "for doc in db.medline.descs.find({\"uid\":{\"$in\":bc_uids}}):\n",
    "    desc_children.append(doc[\"uid\"])\n",
    "    desc_children+=db.medline.descs.distinct(\"uid\",{\"ancestors\":{\"$in\":doc[\"tn\"]}})\n",
    "desc_children = set(desc_children)"
   ]
  },
  {
   "cell_type": "code",
   "execution_count": 8,
   "metadata": {
    "collapsed": true
   },
   "outputs": [],
   "source": [
    "bc_genes = pd.read_pickle(\"../data/SSI/ssi_gene_list.p\")"
   ]
  },
  {
   "cell_type": "code",
   "execution_count": 9,
   "metadata": {
    "collapsed": true
   },
   "outputs": [],
   "source": [
    "desc_name_map = pd.Series({doc[\"uid\"]:doc[\"name\"] for doc in db.medline.descs.find()})"
   ]
  },
  {
   "cell_type": "code",
   "execution_count": 10,
   "metadata": {
    "collapsed": true
   },
   "outputs": [],
   "source": [
    "bc_results = gene_uid[(gene_uid.gd_freq>2) &\n",
    "         (gene_uid.uid.isin(desc_children))][[\"gene_id\",\"uid\",\"npmi\"]].copy()\n",
    "# .groupby(\"gene_id\").mean()"
   ]
  },
  {
   "cell_type": "code",
   "execution_count": 11,
   "metadata": {
    "collapsed": true
   },
   "outputs": [],
   "source": [
    "bc_results[\"npmi_rank\"] = [None]*len(bc_results)\n",
    "bc_results = bc_results[[\"gene_id\",\"uid\",\"npmi\",\"npmi_rank\"]].pivot(index=\"gene_id\",columns=\"uid\")"
   ]
  },
  {
   "cell_type": "code",
   "execution_count": 12,
   "metadata": {
    "collapsed": true
   },
   "outputs": [],
   "source": [
    "bc_results = bc_results.swaplevel(1,0,axis=1)\n",
    "for d in bc_results.columns.get_level_values(\"uid\"):\n",
    "    bc_results[d,\"npmi\"].update(pd.Series(index = bc_results[d][bc_results[d,\n",
    "                                                                    \"npmi\"]<=0].npmi.index.values,data=np.nan))\n",
    "    bc_results[d,\"npmi_rank\"] = bc_results[d,\"npmi\"].rank(ascending=False,na_option=\"bottom\")"
   ]
  },
  {
   "cell_type": "code",
   "execution_count": 13,
   "metadata": {},
   "outputs": [
    {
     "data": {
      "text/plain": [
       "(3683.0, 7710.022988505747, 6517.0837638671965)"
      ]
     },
     "execution_count": 13,
     "metadata": {},
     "output_type": "execute_result"
    }
   ],
   "source": [
    "bc_results.swaplevel(0,1,axis=1).npmi_rank.mean(axis=1)[bc_genes].min(),bc_results.swaplevel(0,1,axis=1).npmi_rank.mean(axis=1)[bc_genes].max(),bc_results.swaplevel(0,1,axis=1).npmi_rank.mean(axis=1)[bc_genes].mean()"
   ]
  },
  {
   "cell_type": "code",
   "execution_count": null,
   "metadata": {
    "collapsed": true
   },
   "outputs": [],
   "source": [
    "# bc_results.swaplevel(0,1,axis=1).npmi_rank.mean(axis=1)[bc_genes].sort_values()"
   ]
  },
  {
   "cell_type": "code",
   "execution_count": 14,
   "metadata": {
    "collapsed": true
   },
   "outputs": [],
   "source": [
    "genie_results = pd.read_table(\"../data/SSI/genie_results_20170718145030538722642_table.txt\").set_index(\"GeneID\")"
   ]
  },
  {
   "cell_type": "code",
   "execution_count": 15,
   "metadata": {
    "collapsed": true
   },
   "outputs": [],
   "source": [
    "genie_results_bn = pd.read_table(\n",
    "    \"../data/SSI/genie_results_breast_neoplasms_20170718153344381245235_table.txt\").set_index(\"GeneID\")"
   ]
  },
  {
   "cell_type": "code",
   "execution_count": 43,
   "metadata": {},
   "outputs": [
    {
     "data": {
      "text/plain": [
       "{'_A': None,\n",
       " '_agg_filter': None,\n",
       " '_alpha': None,\n",
       " '_animated': False,\n",
       " '_antialiaseds': (True,),\n",
       " '_axes': None,\n",
       " '_clipon': True,\n",
       " '_clippath': None,\n",
       " '_contains': None,\n",
       " '_edgecolors': 'face',\n",
       " '_facecolors': array([[ 0.29803922,  0.44705882,  0.69019608,  1.        ]]),\n",
       " '_gid': None,\n",
       " '_hatch': None,\n",
       " '_hatch_color': (0.0, 0.0, 0.0, 1),\n",
       " '_is_filled': True,\n",
       " '_is_stroked': False,\n",
       " '_label': 'Génie rank (214 MeSH terms)\\nSpearman Rank Correlation = 0.561',\n",
       " '_linestyles': [(None, None)],\n",
       " '_linewidths': (0.48,),\n",
       " '_mouseover': False,\n",
       " '_offset_position': 'screen',\n",
       " '_offsets': array([[ 16. ,   4.2]]),\n",
       " '_oid': 0,\n",
       " '_original_edgecolor': 'face',\n",
       " '_original_facecolor': (0.2980392156862745,\n",
       "  0.4470588235294118,\n",
       "  0.6901960784313725),\n",
       " '_path_effects': None,\n",
       " '_paths': [Path(array([[ 0.        , -0.5       ],\n",
       "         [ 0.13260155, -0.5       ],\n",
       "         [ 0.25978994, -0.44731685],\n",
       "         [ 0.35355339, -0.35355339],\n",
       "         [ 0.44731685, -0.25978994],\n",
       "         [ 0.5       , -0.13260155],\n",
       "         [ 0.5       ,  0.        ],\n",
       "         [ 0.5       ,  0.13260155],\n",
       "         [ 0.44731685,  0.25978994],\n",
       "         [ 0.35355339,  0.35355339],\n",
       "         [ 0.25978994,  0.44731685],\n",
       "         [ 0.13260155,  0.5       ],\n",
       "         [ 0.        ,  0.5       ],\n",
       "         [-0.13260155,  0.5       ],\n",
       "         [-0.25978994,  0.44731685],\n",
       "         [-0.35355339,  0.35355339],\n",
       "         [-0.44731685,  0.25978994],\n",
       "         [-0.5       ,  0.13260155],\n",
       "         [-0.5       ,  0.        ],\n",
       "         [-0.5       , -0.13260155],\n",
       "         [-0.44731685, -0.25978994],\n",
       "         [-0.35355339, -0.35355339],\n",
       "         [-0.25978994, -0.44731685],\n",
       "         [-0.13260155, -0.5       ],\n",
       "         [ 0.        , -0.5       ],\n",
       "         [ 0.        , -0.5       ]]), array([ 1,  4,  4,  4,  4,  4,  4,  4,  4,  4,  4,  4,  4,  4,  4,  4,  4,\n",
       "          4,  4,  4,  4,  4,  4,  4,  4, 79], dtype=uint8))],\n",
       " '_picker': None,\n",
       " '_pickradius': 5.0,\n",
       " '_propobservers': {},\n",
       " '_rasterized': None,\n",
       " '_remove_method': None,\n",
       " '_sizes': array([ 20.]),\n",
       " '_sketch': None,\n",
       " '_snap': None,\n",
       " '_stale': False,\n",
       " '_sticky_edges': _XYPair(x=[], y=[]),\n",
       " '_transOffset': CompositeAffine2D(Affine2D(array([[ 1.,  0.,  0.],\n",
       "        [ 0.,  1.,  0.],\n",
       "        [ 0.,  0.,  1.]])), Affine2D(array([[   1.  ,    0.  ,  472.94],\n",
       "        [   0.  ,    1.  ,  119.4 ],\n",
       "        [   0.  ,    0.  ,    1.  ]]))),\n",
       " '_transform': IdentityTransform(),\n",
       " '_transformSet': True,\n",
       " '_transforms': array([[[ 4.47213595,  0.        ,  0.        ],\n",
       "         [ 0.        ,  4.47213595,  0.        ],\n",
       "         [ 0.        ,  0.        ,  1.        ]]]),\n",
       " '_uniform_offsets': None,\n",
       " '_url': None,\n",
       " '_urls': [None],\n",
       " '_us_linestyles': [(None, None)],\n",
       " '_us_lw': (0.48,),\n",
       " '_visible': True,\n",
       " 'callbacksSM': <matplotlib.cbook.CallbackRegistry at 0x7efc9342d9e8>,\n",
       " 'clipbox': None,\n",
       " 'cmap': <matplotlib.colors.LinearSegmentedColormap at 0x7efd1ed79588>,\n",
       " 'colorbar': None,\n",
       " 'eventson': False,\n",
       " 'figure': <matplotlib.figure.Figure at 0x7efc930279e8>,\n",
       " 'norm': <matplotlib.colors.Normalize at 0x7efc933e5d30>,\n",
       " 'stale_callback': None,\n",
       " 'update_dict': {'array': False},\n",
       " 'zorder': 1}"
      ]
     },
     "execution_count": 43,
     "metadata": {},
     "output_type": "execute_result"
    }
   ],
   "source": [
    "h.__dict__"
   ]
  },
  {
   "cell_type": "code",
   "execution_count": 48,
   "metadata": {},
   "outputs": [
    {
     "data": {
      "image/png": "[encoded data removed]",
      "text/plain": [
       "<matplotlib.figure.Figure at 0x7efc935be240>"
      ]
     },
     "metadata": {},
     "output_type": "display_data"
    }
   ],
   "source": [
    "fig, ax = plt.subplots()\n",
    "results = pd.DataFrame([pd.Series(genie_results.loc[bc_genes].Rank),\n",
    "               bc_results.swaplevel(0,1,axis=1).npmi_rank.mean(axis=1)[bc_genes]\n",
    "                       ],\n",
    "             index=[\"Genie rank\",\"EMCON rank\"]).T\n",
    "results2 = pd.DataFrame([pd.Series(genie_results_bn.loc[bc_genes].Rank),\n",
    "               bc_results.swaplevel(0,1,axis=1).npmi_rank.mean(axis=1)[bc_genes]\n",
    "                        ],\n",
    "             index=[\"Genie rank\",\"EMCON rank\"]).T\n",
    "p1 = results.plot(x=\"Genie rank\",y=\"EMCON rank\",kind=\"scatter\",ax=ax,legend=True,\n",
    "        label=f\"Génie rank (214 MeSH terms)\\nSpearman Rank Correlation = {round(spearmanr(results.values)[0],3)}\")\n",
    "p2 = results2.plot(x=\"Genie rank\",y=\"EMCON rank\",kind=\"scatter\",color=sns.color_palette()[1],ax=ax,legend=True,\n",
    "        label=f\"\"\"Genie rank (\"Breast Neoplasms\")\\nSpearman Rank Correlation = {round(spearmanr(results2.values)[0],3)}\"\"\")\n",
    "handles,labels = ax.get_legend_handles_labels()\n",
    "leg = plt.legend(frameon=True)\n",
    "leg.get_frame().set_edgecolor(\"black\")\n",
    "leg.legendHandles[0]\n",
    "for h in leg.legendHandles:\n",
    "    h._sizes = [80]\n",
    "plt.savefig(\"genie_comp.jpeg\",dpi=500,transparent=False,bbox_inches=\"tight\")"
   ]
  },
  {
   "cell_type": "code",
   "execution_count": null,
   "metadata": {},
   "outputs": [],
   "source": [
    "results = pd.DataFrame([pd.Series(genie_results.loc[bc_genes].Rank),\n",
    "               bc_results.swaplevel(0,1,axis=1).npmi_rank.mean(axis=1)[bc_genes]\n",
    "                       ],\n",
    "             index=[\"Genie rank\",\"EMCON rank\"]).T\n",
    "results2 = pd.DataFrame([pd.Series(genie_results_bn.loc[bc_genes].Rank),\n",
    "               bc_results.swaplevel(0,1,axis=1).npmi_rank.mean(axis=1)[bc_genes]\n",
    "                        ],\n",
    "             index=[\"Genie rank\",\"EMCON rank\"]).T\n",
    "fig = plt.figure(figsize=(20.0,7.0))\n",
    "ax = fig.add_subplot(121)\n",
    "ax2 = fig.add_subplot(122,sharey=ax)\n",
    "\n",
    "\n",
    "results.plot(x=\"Genie rank\",y=\"EMCON rank\",kind=\"scatter\",ax=ax)\n",
    "ax.text(0.97,0.05,f\"Spearman Rank Correlation = {round(spearmanr(results.values)[0],3)}\",\n",
    "        horizontalalignment=\"right\",\n",
    "        transform=ax.transAxes)\n",
    "ax.set_xlabel(\"Génie rank\\n(214 MeSH terms)\")\n",
    "\n",
    "results2.plot(x=\"Genie rank\",y=\"EMCON rank\",kind=\"scatter\",ax=ax2)\n",
    "ax2.text(2,0.05,f\"Spearman Rank Correlation = {round(spearmanr(results2.values)[0],3)}\",\n",
    "        horizontalalignment=\"right\",\n",
    "        transform=ax.transAxes)\n",
    "# plt.title(\"\"\"Rank Correlation of ESR gene set\\nGenie Results using \"Breast Neoplasms\" compared to EMCON\"\"\")\n",
    "ax2.set_xlabel(\"\"\"Genie rank\\n(\"Breast Neoplasms\")\"\"\")\n",
    "\n",
    "ax.text(-0.02, 1.125, 'A',\n",
    "         fontweight=\"bold\",\n",
    "        horizontalalignment='left',\n",
    "        verticalalignment='top',\n",
    "        transform=ax.transAxes)\n",
    "\n",
    "ax.text(1.025, 1.125, 'B',\n",
    "         fontweight=\"bold\",\n",
    "        horizontalalignment='left',\n",
    "        verticalalignment='top',\n",
    "        transform=ax.transAxes)\n",
    "left, width = -0.15, 1.16\n",
    "bottom, height = -0.2, 1.4\n",
    "p = mpatches.Rectangle(\n",
    "    (left, bottom), width, height,\n",
    "    fill=False, transform=ax.transAxes, clip_on=False, color=\"black\"\n",
    "    )\n",
    "\n",
    "left2,width2 = 1.01,1.03\n",
    "\n",
    "p2 = mpatches.Rectangle(\n",
    "    (left2, bottom), width2, height,\n",
    "    fill=False, transform=ax.transAxes, clip_on=False, color=\"black\"\n",
    "    )\n",
    "ax.add_patch(p)\n",
    "ax.add_patch(p2)\n",
    "plt.tight_layout()\n",
    "plt.savefig(\"genie_comp.jpeg\",dpi=500,transparent=False,bbox_inches=\"tight\")"
   ]
  },
  {
   "cell_type": "code",
   "execution_count": null,
   "metadata": {},
   "outputs": [],
   "source": [
    "len(genie_results),len(bc_results),len(genie_results_bn)"
   ]
  },
  {
   "cell_type": "code",
   "execution_count": null,
   "metadata": {},
   "outputs": [],
   "source": [
    "spearmanr(results.values)"
   ]
  },
  {
   "cell_type": "code",
   "execution_count": null,
   "metadata": {},
   "outputs": [],
   "source": [
    "spearmanr(results2.values)"
   ]
  },
  {
   "cell_type": "code",
   "execution_count": null,
   "metadata": {},
   "outputs": [],
   "source": [
    "results[results[\"Genie rank\"].isnull()].index.values"
   ]
  },
  {
   "cell_type": "code",
   "execution_count": null,
   "metadata": {},
   "outputs": [],
   "source": [
    "results2[results2[\"Genie rank\"].isnull()].index.values"
   ]
  },
  {
   "cell_type": "code",
   "execution_count": null,
   "metadata": {
    "collapsed": true
   },
   "outputs": [],
   "source": []
  }
 ],
 "metadata": {
  "kernelspec": {
   "display_name": "Python 3",
   "language": "python",
   "name": "python3"
  },
  "language_info": {
   "codemirror_mode": {
    "name": "ipython",
    "version": 3
   },
   "file_extension": ".py",
   "mimetype": "text/x-python",
   "name": "python",
   "nbconvert_exporter": "python",
   "pygments_lexer": "ipython3",
   "version": "3.6.0"
  }
 },
 "nbformat": 4,
 "nbformat_minor": 1
}
