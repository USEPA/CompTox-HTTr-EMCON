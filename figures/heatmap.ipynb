{
 "cells": [
  {
   "cell_type": "code",
   "execution_count": 1,
   "metadata": {
    "collapsed": true
   },
   "outputs": [],
   "source": [
    "import pandas as pd\n",
    "import matplotlib.pyplot as plt\n",
    "import matplotlib\n",
    "import seaborn as sns\n",
    "import pymongo\n",
    "\n",
    "\n",
    "%matplotlib inline\n",
    "# matplotlib.rcParams[\"figure.figsize\"] = (20.0, 14.0)\n",
    "# matplotlib.rcParams[\"font.size\"] = 26\n",
    "# matplotlib.rcParams[\"axes.grid\"] = True\n",
    "# matplotlib.rcParams[\"axes.facecolor\"] = (0.97,0.97,0.97)"
   ]
  },
  {
   "cell_type": "code",
   "execution_count": 2,
   "metadata": {
    "collapsed": true
   },
   "outputs": [],
   "source": [
    "client = pymongo.MongoClient()\n",
    "db = client.swatford"
   ]
  },
  {
   "cell_type": "code",
   "execution_count": 3,
   "metadata": {
    "collapsed": true
   },
   "outputs": [],
   "source": [
    "gene_uid = pd.read_pickle(\"../data/SSI/gene_uid.p\")"
   ]
  },
  {
   "cell_type": "code",
   "execution_count": 342,
   "metadata": {
    "collapsed": true
   },
   "outputs": [],
   "source": [
    "gene_uid_o = pd.read_pickle(\"../data/SSI/gene_uid_original.p\")"
   ]
  },
  {
   "cell_type": "code",
   "execution_count": 43,
   "metadata": {
    "collapsed": true
   },
   "outputs": [],
   "source": [
    "%run ../scripts/equations.py"
   ]
  },
  {
   "cell_type": "code",
   "execution_count": 44,
   "metadata": {
    "collapsed": true
   },
   "outputs": [],
   "source": [
    "n = db.genes.descs.original.find().count()"
   ]
  },
  {
   "cell_type": "code",
   "execution_count": 45,
   "metadata": {
    "collapsed": true
   },
   "outputs": [],
   "source": [
    "gene_uid[\"pmi\"] = pmi(gene_uid.gd_freq.values,gene_uid.d_freq.values,gene_uid.g_freq.values,n)\n",
    "gene_uid[\"npmi\"] = npmi(gene_uid.pmi.values,gene_uid.gd_freq.values,n)"
   ]
  },
  {
   "cell_type": "code",
   "execution_count": 343,
   "metadata": {
    "collapsed": true
   },
   "outputs": [],
   "source": [
    "gene_uid_o[\"pmi\"] = pmi(gene_uid_o.gd_freq.values,gene_uid_o.d_freq.values,gene_uid_o.g_freq.values,n)\n",
    "gene_uid_o[\"npmi\"] = npmi(gene_uid_o.pmi.values,gene_uid_o.gd_freq.values,n)"
   ]
  },
  {
   "cell_type": "code",
   "execution_count": 4,
   "metadata": {
    "collapsed": true
   },
   "outputs": [],
   "source": [
    "bc_uids = [\"D009389\",\"D018919\",\"D017209\",\"D002453\",\"D057890\",\"D004249\",\"D004260\",\"D013006\",\"D002470\",\"D007107\",\n",
    "    \"D007249\",\"D001940\",\"D001941\",\"D018384\",\"D049109\",\"D012739\",\"D015262\"]"
   ]
  },
  {
   "cell_type": "code",
   "execution_count": 5,
   "metadata": {
    "collapsed": true
   },
   "outputs": [],
   "source": [
    "bc_genes = pd.read_pickle(\"../data/SSI/ssi_gene_list.p\")"
   ]
  },
  {
   "cell_type": "code",
   "execution_count": 35,
   "metadata": {
    "collapsed": true
   },
   "outputs": [],
   "source": [
    "# bc_results = gene_uid[gene_uid.uid.isin(bc_uids)].groupby(\"uid\").gene_id.apply(set)\n",
    "# bc_results = gene_uid[(gene_uid.uid.isin(bc_uids)) & (gene_uid.gene_id.isin(bc_genes))].groupby(\"uid\").gene_id.apply(set)\n",
    "# bc_results = bc_results.apply(lambda x: set(bc_genes) & set(x))"
   ]
  },
  {
   "cell_type": "code",
   "execution_count": 7,
   "metadata": {
    "collapsed": true
   },
   "outputs": [],
   "source": [
    "desc_children = pd.Series({doc[\"uid\"]:db.medline.descs.distinct(\"uid\",{\"ancestors\":{\"$in\":doc[\"tn\"]}})\n",
    "               for doc in db.medline.descs.find({\"uid\":{\"$in\":bc_uids}})})\n",
    "desc_children_count = desc_children.apply(len)"
   ]
  },
  {
   "cell_type": "code",
   "execution_count": 354,
   "metadata": {},
   "outputs": [
    {
     "name": "stdout",
     "output_type": "stream",
     "text": [
      "D001940\n",
      "D001941\n",
      "D002453\n",
      "D002470\n",
      "D004249\n",
      "D004260\n",
      "D007107\n",
      "D007249\n",
      "D009389\n",
      "D012739\n",
      "D013006\n",
      "D015262\n",
      "D017209\n",
      "D018384\n",
      "D018919\n",
      "D049109\n",
      "D057890\n"
     ]
    }
   ],
   "source": [
    "bc_results = {}\n",
    "bc_results_gt0 = {}\n",
    "\n",
    "for tup in desc_children.iteritems():\n",
    "#     bc_results[tup[0]] = set(bc_genes) & set(gene_uid_o[gene_uid_o.uid.isin(tup[1] + [tup[0]]) ].gene_id)\n",
    "    bc_results[tup[0]] = set(bc_genes) & set(gene_uid_o[(gene_uid_o.uid.isin(tup[1] + [tup[0]])) \n",
    "                                                      & (gene_uid_o.npmi>0.0)].gene_id)\n",
    "    bc_results_gt0[tup[0]] = set(bc_genes) & set(gene_uid[(gene_uid.uid.isin(tup[1] + [tup[0]])) \n",
    "                                                      & (gene_uid.npmi>0.0)].gene_id)\n",
    "    print(tup[0])\n",
    "bc_results = pd.Series(bc_results)\n",
    "bc_results_gt0 = pd.Series(bc_results_gt0)"
   ]
  },
  {
   "cell_type": "code",
   "execution_count": 365,
   "metadata": {
    "collapsed": true
   },
   "outputs": [],
   "source": [
    "for uid in bc_uids:\n",
    "    bc_results[uid] = set(bc_genes) & set(gene_uid_o[(gene_uid_o.uid.isin([uid])) \n",
    "                                                          & (gene_uid_o.npmi>0.0)].gene_id)\n",
    "    bc_results_gt0[uid] = set(bc_genes) & set(gene_uid[(gene_uid.uid.isin([uid])) \n",
    "                                                  & (gene_uid.npmi>0.0)].gene_id)\n",
    "bc_results = pd.Series(bc_results)\n",
    "bc_results_gt0 = pd.Series(bc_results_gt0)"
   ]
  },
  {
   "cell_type": "code",
   "execution_count": 368,
   "metadata": {},
   "outputs": [
    {
     "data": {
      "text/plain": [
       "D001940    155\n",
       "D001941     31\n",
       "D002453     86\n",
       "D002470    156\n",
       "D004249     78\n",
       "D004260     48\n",
       "D007107     84\n",
       "D007249    101\n",
       "D009389    116\n",
       "D012739    108\n",
       "D013006     65\n",
       "D015262    101\n",
       "D017209    121\n",
       "D018384    108\n",
       "D018919     98\n",
       "D049109    160\n",
       "D057890     50\n",
       "dtype: int64"
      ]
     },
     "execution_count": 368,
     "metadata": {},
     "output_type": "execute_result"
    }
   ],
   "source": [
    "bc_results.apply(len)"
   ]
  },
  {
   "cell_type": "code",
   "execution_count": 369,
   "metadata": {},
   "outputs": [
    {
     "data": {
      "text/plain": [
       "D001940    127\n",
       "D001941      0\n",
       "D002453     29\n",
       "D002470    156\n",
       "D004249     60\n",
       "D004260     47\n",
       "D007107      0\n",
       "D007249     81\n",
       "D009389    107\n",
       "D012739      8\n",
       "D013006     43\n",
       "D015262    101\n",
       "D017209    120\n",
       "D018384    106\n",
       "D018919     98\n",
       "D049109    131\n",
       "D057890     50\n",
       "dtype: int64"
      ]
     },
     "execution_count": 369,
     "metadata": {},
     "output_type": "execute_result"
    }
   ],
   "source": [
    "bc_results_gt0.apply(len)"
   ]
  },
  {
   "cell_type": "code",
   "execution_count": 370,
   "metadata": {},
   "outputs": [],
   "source": [
    "data = []\n",
    "for uid in bc_results.index.values:\n",
    "    uid_data = {}\n",
    "    for uid2 in bc_results.index.values:\n",
    "        if bc_results.apply(len)[uid]>0 and bc_results.apply(len)[uid2]>0:\n",
    "            uid_data[uid2] = len(bc_results[uid] & bc_results[uid2])/len(bc_results[uid] | bc_results[uid2])\n",
    "        else:\n",
    "            uid_data[uid2] = 0\n",
    "    data.append(pd.Series(uid_data,name=uid))\n",
    "data_gt0 = []\n",
    "for uid in bc_results_gt0.index.values:\n",
    "    uid_data = {}\n",
    "    for uid2 in bc_results_gt0.index.values:\n",
    "        if bc_results_gt0.apply(len)[uid]>0 and bc_results_gt0.apply(len)[uid2]>0:\n",
    "            uid_data[uid2] = len(bc_results_gt0[uid] & bc_results_gt0[uid2])/len(bc_results_gt0[uid] | bc_results_gt0[uid2])\n",
    "        else:\n",
    "            uid_data[uid2] = 0\n",
    "    data_gt0.append(pd.Series(uid_data,name=uid))"
   ]
  },
  {
   "cell_type": "code",
   "execution_count": 371,
   "metadata": {
    "collapsed": true
   },
   "outputs": [],
   "source": [
    "mat = pd.DataFrame(data)\n",
    "mat_gt0 = pd.DataFrame(data_gt0)"
   ]
  },
  {
   "cell_type": "code",
   "execution_count": 372,
   "metadata": {
    "collapsed": true
   },
   "outputs": [],
   "source": [
    "desc_name_map = pd.Series({doc[\"uid\"]:doc[\"name\"] for doc in db.medline.descs.find()})"
   ]
  },
  {
   "cell_type": "code",
   "execution_count": 373,
   "metadata": {
    "collapsed": true
   },
   "outputs": [],
   "source": [
    "# sort the same way: by total number of genes retrieved without a cutoff\n",
    "sort_by_gene = bc_results.apply(len).sort_values(ascending=False).index.values\n",
    "# mat = mat[bc_results.apply(len).sort_values(\n",
    "#     ascending=False).index].loc[bc_results.apply(len).sort_values(ascending=False).index].copy()\n",
    "# mat_gt0 = mat_gt0[bc_results.apply(len).sort_values(\n",
    "#     ascending=False).index].loc[bc_results.apply(len).sort_values(ascending=False).index].copy()"
   ]
  },
  {
   "cell_type": "code",
   "execution_count": 374,
   "metadata": {
    "collapsed": true
   },
   "outputs": [],
   "source": [
    "mat.columns = pd.Series(mat.columns).map(desc_name_map).values\n",
    "mat.index = pd.Series(mat.index).map(desc_name_map).values\n",
    "mat_gt0.columns = pd.Series(mat_gt0.columns).map(desc_name_map).values\n",
    "mat_gt0.index = pd.Series(mat_gt0.index).map(desc_name_map).values"
   ]
  },
  {
   "cell_type": "code",
   "execution_count": 375,
   "metadata": {
    "collapsed": true
   },
   "outputs": [],
   "source": [
    "data_h1 = pd.DataFrame(mat.stack())\n",
    "data_h1[\"method\"] = [\"no NPMI cutoff\"]*len(data_h1)\n",
    "data_h1[\"x\"] = data_h1.index.get_level_values(0)\n",
    "data_h1[\"y\"] = data_h1.index.get_level_values(1)\n",
    "data_h1.index = list(range(len(data_h1)))"
   ]
  },
  {
   "cell_type": "code",
   "execution_count": 376,
   "metadata": {
    "collapsed": true
   },
   "outputs": [],
   "source": [
    "data_h2 = pd.DataFrame(mat_gt0.stack())\n",
    "data_h2[\"method\"] = [\"NPMI>0.0\"]*len(data_h2)\n",
    "data_h2[\"x\"] = data_h2.index.get_level_values(0)\n",
    "data_h2[\"y\"] = data_h2.index.get_level_values(1)\n",
    "data_h2.index = list(range(len(data_h2)))"
   ]
  },
  {
   "cell_type": "code",
   "execution_count": 377,
   "metadata": {
    "collapsed": true
   },
   "outputs": [],
   "source": [
    "data = pd.concat([data_h1,data_h2])"
   ]
  },
  {
   "cell_type": "code",
   "execution_count": 378,
   "metadata": {},
   "outputs": [
    {
     "name": "stderr",
     "output_type": "stream",
     "text": [
      "/home/swatford/anaconda3/lib/python3.6/site-packages/matplotlib/figure.py:1743: UserWarning: This figure includes Axes that are not compatible with tight_layout, so its results might be incorrect.\n",
      "  warnings.warn(\"This figure includes Axes that are not \"\n"
     ]
    },
    {
     "data": {
      "image/png": "[encoded data removed]",
      "text/plain": [
       "<matplotlib.figure.Figure at 0x7f43edb79588>"
      ]
     },
     "metadata": {},
     "output_type": "display_data"
    }
   ],
   "source": [
    "# sns.set_context(\"paper\")\n",
    "def facet_heatmap(data,color, **kws):\n",
    "    data = data.pivot(index=\"y\",\n",
    "                      columns=\"x\",\n",
    "                      values=0)[desc_name_map[sort_by_gene].values].loc[desc_name_map[sort_by_gene].values]\n",
    "    sns.heatmap(data,cmap=\"Blues\", **kws)\n",
    "\n",
    "\n",
    "g = sns.FacetGrid(data, col=\"method\", size=6, aspect=1)\n",
    "\n",
    "cbar_ax = g.fig.add_axes([0.86, .3, .02, .6])\n",
    "# cbar_ax.yaxis.set_label(r\"$Overlap Percentage=\\frac{m_1\\bigcap m_2}{m_1\\bigcup m_2}$\")\n",
    "g = g.map_dataframe(facet_heatmap, \n",
    "                    cbar_ax=cbar_ax,\n",
    "                    cbar_kws={\"label\":r\"$Overlap Percentage=\\frac{m_1\\bigcap m_2}{m_1\\bigcup m_2}$\"},\n",
    "                    vmin=0, vmax=1,\n",
    "                    cbar=True)\n",
    "g.set_titles(col_template=\"{col_name}\", fontweight='bold')\n",
    "g.fig.subplots_adjust(top=0.9,right=.85)\n",
    "# plt.title(\"Percent of overlapping genes per MeSH term\")\n",
    "g.fig.suptitle(\"\"\"Percent of overlapping genes per breast cancer-related MeSH term\"\"\",fontweight=\"bold\")\n",
    "plt.savefig(\"heatmap.png\",dpi=500,transparent=True,bbox_inches=\"tight\")"
   ]
  },
  {
   "cell_type": "code",
   "execution_count": null,
   "metadata": {
    "collapsed": true
   },
   "outputs": [],
   "source": []
  },
  {
   "cell_type": "code",
   "execution_count": null,
   "metadata": {
    "collapsed": true
   },
   "outputs": [],
   "source": []
  }
 ],
 "metadata": {
  "kernelspec": {
   "display_name": "Python 3",
   "language": "python",
   "name": "python3"
  },
  "language_info": {
   "codemirror_mode": {
    "name": "ipython",
    "version": 3
   },
   "file_extension": ".py",
   "mimetype": "text/x-python",
   "name": "python",
   "nbconvert_exporter": "python",
   "pygments_lexer": "ipython3",
   "version": "3.6.0"
  }
 },
 "nbformat": 4,
 "nbformat_minor": 1
}
