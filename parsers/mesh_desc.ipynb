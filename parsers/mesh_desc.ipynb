{
 "cells": [
  {
   "cell_type": "code",
   "execution_count": 1,
   "metadata": {
    "collapsed": true
   },
   "outputs": [],
   "source": [
    "import pymongo\n",
    "import xmltodict as xtd\n",
    "from gzip import GzipFile\n",
    "import pandas as pd"
   ]
  },
  {
   "cell_type": "code",
   "execution_count": 2,
   "metadata": {
    "collapsed": true
   },
   "outputs": [],
   "source": [
    "client = pymongo.MongoClient()\n",
    "db = client.swatford"
   ]
  },
  {
   "cell_type": "code",
   "execution_count": 3,
   "metadata": {
    "collapsed": true
   },
   "outputs": [],
   "source": [
    "def handle_desc(_,d):\n",
    "    descs.append(dict(d))        \n",
    "    return True"
   ]
  },
  {
   "cell_type": "code",
   "execution_count": 4,
   "metadata": {
    "collapsed": true
   },
   "outputs": [],
   "source": [
    "descs = []\n",
    "xtd.parse(GzipFile(\"../data/MeSH/desc2017.gz\"),\n",
    "          item_depth=2,\n",
    "          item_callback=handle_desc,force_list=[\"AllowableQualifier\",\"TreeNumber\"])"
   ]
  },
  {
   "cell_type": "code",
   "execution_count": 5,
   "metadata": {},
   "outputs": [
    {
     "data": {
      "text/plain": [
       "dict_keys(['DescriptorUI', 'DescriptorName', 'DateCreated', 'DateRevised', 'DateEstablished', 'AllowableQualifiersList', 'HistoryNote', 'OnlineNote', 'PublicMeSHNote', 'PreviousIndexingList', 'PharmacologicalActionList', 'TreeNumberList', 'ConceptList'])"
      ]
     },
     "execution_count": 5,
     "metadata": {},
     "output_type": "execute_result"
    }
   ],
   "source": [
    "descs[0].keys()"
   ]
  },
  {
   "cell_type": "code",
   "execution_count": 16,
   "metadata": {
    "collapsed": true
   },
   "outputs": [],
   "source": [
    "def ancestors(tnl):\n",
    "    ans = []\n",
    "    for tn in tnl:\n",
    "        a = None\n",
    "        for x in tn.split(\".\")[:-1]:\n",
    "            if a is None:\n",
    "                a=x\n",
    "            else:\n",
    "                a+=f\".{x}\"\n",
    "            ans.append(a)\n",
    "    return ans"
   ]
  },
  {
   "cell_type": "code",
   "execution_count": 17,
   "metadata": {
    "collapsed": true
   },
   "outputs": [],
   "source": [
    "to_insert = []\n",
    "for d in descs:\n",
    "#     print([x[\"TreeNumber\"] for x in d[\"TreeNumberList\"]])\n",
    "    e = {}\n",
    "    e[\"uid\"] = d[\"DescriptorUI\"]\n",
    "    e[\"name\"] = d[\"DescriptorName\"][\"String\"]\n",
    "    if \"AllowableQualifiersList\" in d:\n",
    "        e[\"q\"] = [{\"uid\":x[\"QualifierReferredTo\"][\"QualifierUI\"],\n",
    "                  \"name\":x[\"QualifierReferredTo\"][\"QualifierName\"][\"String\"],\n",
    "                  \"abb\":x[\"Abbreviation\"]} for x in d[\"AllowableQualifiersList\"][\"AllowableQualifier\"]]\n",
    "    if \"TreeNumberList\" in d:\n",
    "        e[\"tn\"] = d[\"TreeNumberList\"][\"TreeNumber\"]\n",
    "        e[\"ancestors\"] = ancestors(d[\"TreeNumberList\"][\"TreeNumber\"])\n",
    "    to_insert.append(e)"
   ]
  },
  {
   "cell_type": "code",
   "execution_count": 18,
   "metadata": {},
   "outputs": [
    {
     "data": {
      "text/plain": [
       "28472"
      ]
     },
     "execution_count": 18,
     "metadata": {},
     "output_type": "execute_result"
    }
   ],
   "source": [
    "len(to_insert)"
   ]
  },
  {
   "cell_type": "code",
   "execution_count": 19,
   "metadata": {},
   "outputs": [
    {
     "data": {
      "text/plain": [
       "<pymongo.results.InsertManyResult at 0x7f5013a53360>"
      ]
     },
     "execution_count": 19,
     "metadata": {},
     "output_type": "execute_result"
    }
   ],
   "source": [
    "db.medline.descs.insert_many(to_insert)"
   ]
  },
  {
   "cell_type": "code",
   "execution_count": null,
   "metadata": {
    "collapsed": true
   },
   "outputs": [],
   "source": []
  }
 ],
 "metadata": {
  "kernelspec": {
   "display_name": "Python 3",
   "language": "python",
   "name": "python3"
  },
  "language_info": {
   "codemirror_mode": {
    "name": "ipython",
    "version": 3
   },
   "file_extension": ".py",
   "mimetype": "text/x-python",
   "name": "python",
   "nbconvert_exporter": "python",
   "pygments_lexer": "ipython3",
   "version": "3.6.0"
  }
 },
 "nbformat": 4,
 "nbformat_minor": 2
}
