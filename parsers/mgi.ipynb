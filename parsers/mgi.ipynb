{
 "cells": [
  {
   "cell_type": "code",
   "execution_count": 8,
   "metadata": {
    "collapsed": true
   },
   "outputs": [],
   "source": [
    "import pandas as pd\n",
    "import pymongo\n",
    "import numpy as np"
   ]
  },
  {
   "cell_type": "code",
   "execution_count": 50,
   "metadata": {
    "collapsed": true
   },
   "outputs": [],
   "source": [
    "client = pymongo.MongoClient()\n",
    "db = client.swatford"
   ]
  },
  {
   "cell_type": "code",
   "execution_count": 3,
   "metadata": {},
   "outputs": [],
   "source": [
    "mrk_ref = pd.read_table(\"../data/MGI/MRK_Reference.rpt\",header=None,names=[\"mgi_marker_acc_id\",\n",
    "                                                                           \"marker_symbol\",\n",
    "                                                                           \"marker_name\",\n",
    "                                                                           \"marker_syns\",\n",
    "                                                                           \"pmid\"])"
   ]
  },
  {
   "cell_type": "code",
   "execution_count": 33,
   "metadata": {},
   "outputs": [],
   "source": [
    "ref_data = {\"acc\":[],\"pmid\":[]}"
   ]
  },
  {
   "cell_type": "code",
   "execution_count": 34,
   "metadata": {},
   "outputs": [],
   "source": [
    "for tup in mrk_ref[[\"mgi_marker_acc_id\",\"pmid\"]].itertuples():\n",
    "    pmids = [int(x) for x in tup.pmid.split(\"|\")]\n",
    "    ref_data[\"acc\"]+=[tup.mgi_marker_acc_id]*len(pmids)\n",
    "    ref_data[\"pmid\"]+=pmids\n",
    "#     print([tup.mgi_marker_acc_id]*len(pmids),pmids)"
   ]
  },
  {
   "cell_type": "code",
   "execution_count": 28,
   "metadata": {},
   "outputs": [],
   "source": [
    "mrk_gene = pd.read_table(\"../data/MGI/MGI_EntrezGene.rpt\",header=None,names=[\"mgi_marker_acc_id\",\n",
    "                                                                             \"marker_symbol\",\n",
    "                                                                             \"status\",\n",
    "                                                                             \"marker_name\",\n",
    "                                                                             \"cm_pos\",\n",
    "                                                                             \"chromosome\",\n",
    "                                                                             \"type\",\n",
    "                                                                             \"sec_acc\",\n",
    "                                                                             \"gene_id\",\n",
    "                                                                             \"syns\",\n",
    "                                                                             \"feature_type\",\n",
    "                                                                             \"genome_coord_start\",\n",
    "                                                                             \"genome_coord_end\",\n",
    "                                                                             \"strand\",\n",
    "                                                                             \"biotype\"])"
   ]
  },
  {
   "cell_type": "code",
   "execution_count": 41,
   "metadata": {
    "scrolled": true
   },
   "outputs": [],
   "source": [
    "gene_pmid = mrk_gene[mrk_gene.gene_id.isnull()==False][[\"mgi_marker_acc_id\",\n",
    "                                            \"gene_id\"]].merge(pd.DataFrame(ref_data),\n",
    "                                                              how=\"inner\",\n",
    "                                                              left_on=\"mgi_marker_acc_id\",\n",
    "                                                              right_on=\"acc\"\n",
    "                                                             )"
   ]
  },
  {
   "cell_type": "code",
   "execution_count": 51,
   "metadata": {},
   "outputs": [
    {
     "data": {
      "text/plain": [
       "<pymongo.results.InsertManyResult at 0x7f5003547f78>"
      ]
     },
     "execution_count": 51,
     "metadata": {},
     "output_type": "execute_result"
    }
   ],
   "source": [
    "to_insert = []\n",
    "for i,row in gene_pmid[[\"gene_id\",\"acc\",\"pmid\"]].iterrows():\n",
    "    to_insert.append(dict(row))\n",
    "    if i%25000==0:\n",
    "        db.mgi.insert_many(to_insert)\n",
    "        to_insert=[]\n",
    "db.mgi.insert_many(to_insert)"
   ]
  },
  {
   "cell_type": "code",
   "execution_count": null,
   "metadata": {
    "collapsed": true
   },
   "outputs": [],
   "source": []
  }
 ],
 "metadata": {
  "kernelspec": {
   "display_name": "Python 3",
   "language": "python",
   "name": "python3"
  },
  "language_info": {
   "codemirror_mode": {
    "name": "ipython",
    "version": 3
   },
   "file_extension": ".py",
   "mimetype": "text/x-python",
   "name": "python",
   "nbconvert_exporter": "python",
   "pygments_lexer": "ipython3",
   "version": "3.6.0"
  }
 },
 "nbformat": 4,
 "nbformat_minor": 2
}
