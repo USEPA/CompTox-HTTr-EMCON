{
 "cells": [
  {
   "cell_type": "code",
   "execution_count": 1,
   "metadata": {
    "collapsed": true
   },
   "outputs": [],
   "source": [
    "import pandas as pd\n",
    "import pymongo\n",
    "import numpy as np\n",
    "import os"
   ]
  },
  {
   "cell_type": "code",
   "execution_count": 2,
   "metadata": {
    "collapsed": true
   },
   "outputs": [],
   "source": [
    "client = pymongo.MongoClient()\n",
    "db = client.swatford"
   ]
  },
  {
   "cell_type": "code",
   "execution_count": 99,
   "metadata": {
    "collapsed": true
   },
   "outputs": [],
   "source": [
    "def str_split(x,y):\n",
    "    if x is not None:\n",
    "        return x.split(y)\n",
    "    else:\n",
    "        return []"
   ]
  },
  {
   "cell_type": "code",
   "execution_count": 131,
   "metadata": {
    "collapsed": true
   },
   "outputs": [],
   "source": [
    "data = {\"gene_id\":[],\"pmid\":[],\"human\":[]}"
   ]
  },
  {
   "cell_type": "code",
   "execution_count": 132,
   "metadata": {},
   "outputs": [
    {
     "name": "stdout",
     "output_type": "stream",
     "text": [
      "GENES_RAT.txt\n",
      "GENES_HUMAN.txt\n",
      "GENES_MOUSE.txt\n",
      "GENES_BONOBO.txt\n",
      "GENES_SQUIRREL.txt\n",
      "GENES_CHINCHILLA.txt\n",
      "GENES_DOG.txt\n"
     ]
    }
   ],
   "source": [
    "for fn in os.listdir(\"../data/RGD/\"):\n",
    "    h = \"N\"\n",
    "    if \"HUMAN\" in fn:\n",
    "        h=\"Y\"\n",
    "    x = pd.read_table(f\"../data/RGD/{fn}\",\n",
    "                  comment=\"#\",\n",
    "                  low_memory=False,\n",
    "                  converters={\"CURATED_REF_PUBMED_ID\":str,\n",
    "                         \"UNCURATED_PUBMED_ID\":str})[[\"NCBI_GENE_ID\",\n",
    "                                                      \"CURATED_REF_PUBMED_ID\",\n",
    "                                                      \"UNCURATED_PUBMED_ID\"]].copy().replace({\"\":None})\n",
    "    for tup in x[x.NCBI_GENE_ID.isnull()==False].itertuples():\n",
    "        pmids = [int(y) for y in str_split(tup.CURATED_REF_PUBMED_ID,\";\") + str_split(tup.UNCURATED_PUBMED_ID,\";\")]\n",
    "        data[\"gene_id\"] += [int(tup.NCBI_GENE_ID)]*len(pmids)\n",
    "        data[\"pmid\"] += pmids\n",
    "        data[\"human\"] += [h]*len(pmids)\n",
    "    print(fn)"
   ]
  },
  {
   "cell_type": "code",
   "execution_count": 133,
   "metadata": {},
   "outputs": [
    {
     "data": {
      "text/plain": [
       "<pymongo.results.InsertManyResult at 0x7f6ad5c49900>"
      ]
     },
     "execution_count": 133,
     "metadata": {},
     "output_type": "execute_result"
    }
   ],
   "source": [
    "to_insert = []\n",
    "for i,row in pd.DataFrame(data).iterrows():\n",
    "    to_insert.append(dict(row))\n",
    "    if i%25000==0:\n",
    "        db.rgd.insert_many(to_insert)\n",
    "        to_insert=[]\n",
    "db.rgd.insert_many(to_insert)"
   ]
  },
  {
   "cell_type": "code",
   "execution_count": null,
   "metadata": {
    "collapsed": true
   },
   "outputs": [],
   "source": []
  }
 ],
 "metadata": {
  "kernelspec": {
   "display_name": "Python 3",
   "language": "python",
   "name": "python3"
  },
  "language_info": {
   "codemirror_mode": {
    "name": "ipython",
    "version": 3
   },
   "file_extension": ".py",
   "mimetype": "text/x-python",
   "name": "python",
   "nbconvert_exporter": "python",
   "pygments_lexer": "ipython3",
   "version": "3.6.0"
  }
 },
 "nbformat": 4,
 "nbformat_minor": 2
}
