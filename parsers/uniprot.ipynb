{
 "cells": [
  {
   "cell_type": "code",
   "execution_count": 7,
   "metadata": {
    "collapsed": true
   },
   "outputs": [],
   "source": [
    "import pandas as pd\n",
    "import pymongo\n",
    "import numpy as np\n",
    "import gzip"
   ]
  },
  {
   "cell_type": "code",
   "execution_count": 2,
   "metadata": {
    "collapsed": true
   },
   "outputs": [],
   "source": [
    "client = pymongo.MongoClient()\n",
    "db = client.swatford"
   ]
  },
  {
   "cell_type": "code",
   "execution_count": null,
   "metadata": {},
   "outputs": [],
   "source": [
    "to_insert = []\n",
    "for i,row in enumerate(gzip.open(\"../data/Uniprot/idmapping_selected.tab.gz\",\"r\")):\n",
    "    r = pd.Series(row.decode(\"utf-8\").split(\"\\t\"))[[0,1,2,9,12,15,21]].copy()\n",
    "    r.index = [\"uniprot_acc\",\"uniprot_id\",\"gene_id\",\"uniref50\",\"tax_id\",\"pmid\",\"pmid2\"]\n",
    "    r.pmid = [int(x) for x in r.pmid.split(\";\")] if r.pmid != \"\" else []\n",
    "    r.pmid += [int(y) for y in r.pmid2.strip().split(\";\")] if r.pmid2.strip() != \"\" else []\n",
    "    r.drop(\"pmid2\",inplace=True)\n",
    "    if len(r.pmid)>0 and r.gene_id != \"\":\n",
    "        for g in r.gene_id.split(\";\"):\n",
    "            for pmid in r.pmid:\n",
    "                s = pd.Series([r.uniprot_acc,r.uniprot_id,int(g),r.uniref50,int(r.tax_id),int(pmid)],r.index)\n",
    "                to_insert.append(dict(s))\n",
    "                if len(to_insert)%25000==0:\n",
    "                    db.uniprot.insert_many(to_insert)\n",
    "                    to_insert = []\n",
    "db.uniprot.insert_many(to_insert)"
   ]
  },
  {
   "cell_type": "code",
   "execution_count": null,
   "metadata": {
    "collapsed": true
   },
   "outputs": [],
   "source": []
  }
 ],
 "metadata": {
  "kernelspec": {
   "display_name": "Python 3",
   "language": "python",
   "name": "python3"
  },
  "language_info": {
   "codemirror_mode": {
    "name": "ipython",
    "version": 3
   },
   "file_extension": ".py",
   "mimetype": "text/x-python",
   "name": "python",
   "nbconvert_exporter": "python",
   "pygments_lexer": "ipython3",
   "version": "3.6.0"
  }
 },
 "nbformat": 4,
 "nbformat_minor": 2
}
