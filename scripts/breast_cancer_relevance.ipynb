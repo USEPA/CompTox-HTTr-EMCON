{
 "cells": [
  {
   "cell_type": "code",
   "execution_count": 196,
   "metadata": {
    "collapsed": true
   },
   "outputs": [],
   "source": [
    "import pandas as pd\n",
    "import pymongo\n",
    "from numba import vectorize,float64\n",
    "import numpy as np\n",
    "from scipy.stats import chi2_contingency,percentileofscore\n",
    "import matplotlib.pyplot as plt\n",
    "import seaborn as sns\n",
    "import matplotlib.patches as mpatches\n",
    "import matplotlib.lines as mlines\n",
    "\n",
    "%matplotlib inline\n",
    "sns.set_context(\"poster\")"
   ]
  },
  {
   "cell_type": "code",
   "execution_count": 2,
   "metadata": {
    "collapsed": true
   },
   "outputs": [],
   "source": [
    "client = pymongo.MongoClient()\n",
    "db = client.swatford"
   ]
  },
  {
   "cell_type": "code",
   "execution_count": 3,
   "metadata": {
    "collapsed": true
   },
   "outputs": [],
   "source": [
    "gene_uid = pd.read_pickle(\"../data/SSI/gene_uid.p\")"
   ]
  },
  {
   "cell_type": "code",
   "execution_count": 4,
   "metadata": {
    "collapsed": true
   },
   "outputs": [],
   "source": [
    "%run equations.py"
   ]
  },
  {
   "cell_type": "code",
   "execution_count": 5,
   "metadata": {
    "collapsed": true
   },
   "outputs": [],
   "source": [
    "n = db.genes.descs.original.find().count()\n",
    "gene_uid[\"pmi\"] = pmi(gene_uid.gd_freq.values,gene_uid.d_freq.values,gene_uid.g_freq.values,n)\n",
    "gene_uid[\"npmi\"] = npmi(gene_uid.pmi.values,gene_uid.gd_freq.values,n)"
   ]
  },
  {
   "cell_type": "code",
   "execution_count": 6,
   "metadata": {
    "collapsed": true
   },
   "outputs": [],
   "source": [
    "gene_uid[gene_uid.gd_freq>2][[\"gene_id\",\"uid\",\"npmi\"]].to_csv(\"emcon.txt\",sep=\"\\t\",index=False)"
   ]
  },
  {
   "cell_type": "code",
   "execution_count": 7,
   "metadata": {
    "collapsed": true
   },
   "outputs": [],
   "source": [
    "uid_name = {doc[\"uid\"]:doc[\"name\"] for doc in db.medline.descs.find({})}"
   ]
  },
  {
   "cell_type": "code",
   "execution_count": 8,
   "metadata": {
    "collapsed": true
   },
   "outputs": [],
   "source": [
    "gene_uid[\"name\"] = gene_uid.uid.map(pd.Series(uid_name))"
   ]
  },
  {
   "cell_type": "code",
   "execution_count": 9,
   "metadata": {},
   "outputs": [
    {
     "data": {
      "image/png": "[encoded data removed]",
      "text/plain": [
       "<matplotlib.figure.Figure at 0x7faef64d1080>"
      ]
     },
     "metadata": {},
     "output_type": "display_data"
    }
   ],
   "source": [
    "gene_uid.npmi.hist(bins=25)\n",
    "plt.ylabel(\"Number of GeneID-MeSH associations\")\n",
    "plt.xlabel(\"NPMI\")\n",
    "plt.savefig(\"EMCON_NPMI_dist.jpeg\",dpi=500,transparent=False,bbox_inches=\"tight\")"
   ]
  },
  {
   "cell_type": "code",
   "execution_count": 10,
   "metadata": {
    "collapsed": true
   },
   "outputs": [],
   "source": [
    "bc_genes = pd.read_pickle(\"../data/SSI/ssi_gene_list.p\")"
   ]
  },
  {
   "cell_type": "code",
   "execution_count": 11,
   "metadata": {
    "collapsed": true
   },
   "outputs": [],
   "source": [
    "genes = set(gene_uid.gene_id.unique())"
   ]
  },
  {
   "cell_type": "code",
   "execution_count": 12,
   "metadata": {
    "collapsed": true
   },
   "outputs": [],
   "source": [
    "random_gene_lists = np.random.choice(list(genes),(1000,len(bc_genes)))"
   ]
  },
  {
   "cell_type": "code",
   "execution_count": 13,
   "metadata": {
    "collapsed": true
   },
   "outputs": [],
   "source": [
    "bc_uids = [\"D009389\",\"D018919\",\"D017209\",\"D002453\",\"D057890\",\"D004249\",\"D004260\",\"D013006\",\"D002470\",\"D007107\",\n",
    "    \"D007249\",\"D001940\",\"D001941\",\"D018384\",\"D049109\",\"D012739\",\"D015262\"]"
   ]
  },
  {
   "cell_type": "code",
   "execution_count": 14,
   "metadata": {
    "collapsed": true
   },
   "outputs": [],
   "source": [
    "uid_tn = pd.DataFrame([{\"uid\":doc[\"uid\"],\"tn\":tn} \n",
    "                       for doc in db.medline.descs.find({\"tn\":{\"$exists\":True}}) for tn in doc[\"tn\"]])"
   ]
  },
  {
   "cell_type": "code",
   "execution_count": 15,
   "metadata": {
    "collapsed": true
   },
   "outputs": [],
   "source": [
    "bc_tns = uid_tn[uid_tn.uid.isin(bc_uids)]"
   ]
  },
  {
   "cell_type": "code",
   "execution_count": 16,
   "metadata": {
    "collapsed": true
   },
   "outputs": [],
   "source": [
    "bc_children = db.medline.descs.distinct(\"uid\",{\"ancestors\":{\"$in\":list(bc_tns.tn.values)}})"
   ]
  },
  {
   "cell_type": "code",
   "execution_count": 17,
   "metadata": {
    "collapsed": true
   },
   "outputs": [],
   "source": [
    "bc_uids = set(bc_children)|set(bc_uids)"
   ]
  },
  {
   "cell_type": "code",
   "execution_count": 18,
   "metadata": {
    "collapsed": true
   },
   "outputs": [],
   "source": [
    "genie_genes = pd.read_table(\"../data/SSI/genie_results_w_children.txt\")\n",
    "# genie_genes = genie_genes[genie_genes.Rank<=len(bc_genes)].GeneID.unique()\n",
    "genie_genes = genie_genes[genie_genes.Rank<=500].GeneID.unique()\n",
    "genie_genes_bn = pd.read_table(\"../data/SSI/genie_results_breast_neoplasms_20170718153344381245235_table.txt\")\n",
    "genie_genes_bn = genie_genes_bn[genie_genes_bn.Rank<=len(bc_genes)].GeneID.unique()"
   ]
  },
  {
   "cell_type": "code",
   "execution_count": 19,
   "metadata": {
    "collapsed": true
   },
   "outputs": [],
   "source": [
    "bc_results = gene_uid[(gene_uid.uid.isin(bc_uids)) & (gene_uid.gd_freq>2)].copy()"
   ]
  },
  {
   "cell_type": "code",
   "execution_count": 20,
   "metadata": {
    "collapsed": true
   },
   "outputs": [],
   "source": [
    "bc_results[\"npmi_rank\"] = [None]*len(bc_results)\n",
    "bc_results = bc_results[[\"gene_id\",\"uid\",\"npmi\",\"npmi_rank\"]].pivot(index=\"gene_id\",columns=\"uid\")"
   ]
  },
  {
   "cell_type": "code",
   "execution_count": 21,
   "metadata": {
    "collapsed": true
   },
   "outputs": [],
   "source": [
    "bc_results = bc_results.swaplevel(1,0,axis=1)"
   ]
  },
  {
   "cell_type": "code",
   "execution_count": 22,
   "metadata": {
    "collapsed": true
   },
   "outputs": [],
   "source": [
    "for d in bc_results.columns.get_level_values(\"uid\"):\n",
    "    bc_results[d,\"npmi\"].update(pd.Series(index = bc_results[d][bc_results[d,\n",
    "                                                                    \"npmi\"]<=0].npmi.index.values,data=np.nan))\n",
    "    bc_results[d,\"npmi_rank\"] = bc_results[d,\"npmi\"].rank(ascending=False,na_option=\"bottom\")"
   ]
  },
  {
   "cell_type": "code",
   "execution_count": 23,
   "metadata": {
    "collapsed": true
   },
   "outputs": [],
   "source": [
    "random_gene_npmi_ranks = []\n",
    "for rgl in random_gene_lists:\n",
    "    random_gene_npmi_ranks.append(bc_results.swaplevel(0,1,axis=1).npmi_rank.mean(axis=1)[rgl].mean())"
   ]
  },
  {
   "cell_type": "code",
   "execution_count": 30,
   "metadata": {
    "collapsed": true
   },
   "outputs": [],
   "source": [
    "random_gene_npmi_ranks = []\n",
    "for rgl in random_gene_lists:\n",
    "    random_gene_npmi_ranks.append(bc_results.swaplevel(0,1,axis=1).npmi_rank.mean(axis=1)[rgl].values)"
   ]
  },
  {
   "cell_type": "code",
   "execution_count": 24,
   "metadata": {},
   "outputs": [
    {
     "data": {
      "text/plain": [
       "(3683.0, 7710.022988505747, 6517.0837638671965)"
      ]
     },
     "execution_count": 24,
     "metadata": {},
     "output_type": "execute_result"
    }
   ],
   "source": [
    "bc_results.swaplevel(0,1,axis=1).npmi_rank.mean(axis=1)[bc_genes].min(),bc_results.swaplevel(0,1,axis=1).npmi_rank.mean(axis=1)[bc_genes].max(),bc_results.swaplevel(0,1,axis=1).npmi_rank.mean(axis=1)[bc_genes].mean()"
   ]
  },
  {
   "cell_type": "code",
   "execution_count": 71,
   "metadata": {},
   "outputs": [],
   "source": [
    "rbp = pd.DataFrame(data=random_gene_npmi_ranks,index=list(range(len(random_gene_npmi_ranks)))).T.copy()\n",
    "# bp[\"ELR gene set\"] = bc_results.swaplevel(0,1,axis=1).npmi_rank.mean(axis=1)[bc_genes].values\n",
    "bcbp = pd.DataFrame(data=[bc_results.swaplevel(0,1,axis=1).npmi_rank.mean(axis=1)[bc_genes].values]*1000,index=[\"ELR gene set\"]*1000).T.copy()"
   ]
  },
  {
   "cell_type": "code",
   "execution_count": 220,
   "metadata": {},
   "outputs": [
    {
     "data": {
      "image/png": "[encoded data removed]",
      "text/plain": [
       "<matplotlib.figure.Figure at 0x7fae15d77470>"
      ]
     },
     "metadata": {},
     "output_type": "display_data"
    }
   ],
   "source": [
    "x = plt.boxplot([bcbp.T.iloc[0].T.values])"
   ]
  },
  {
   "cell_type": "code",
   "execution_count": 235,
   "metadata": {},
   "outputs": [
    {
     "data": {
      "text/plain": [
       "(array([ 4354.33333333,  4354.33333333]),\n",
       " array([ 7710.02298851,  7710.02298851]))"
      ]
     },
     "execution_count": 235,
     "metadata": {},
     "output_type": "execute_result"
    }
   ],
   "source": [
    "x[\"caps\"][0].get_ydata(),x[\"caps\"][1].get_ydata()"
   ]
  },
  {
   "cell_type": "code",
   "execution_count": 364,
   "metadata": {},
   "outputs": [
    {
     "data": {
      "text/plain": [
       "(6517.0837638671946,\n",
       " 5959.505747126437,\n",
       " 7149.021551724138,\n",
       " 3683.0,\n",
       " 7710.022988505747)"
      ]
     },
     "execution_count": 364,
     "metadata": {},
     "output_type": "execute_result"
    }
   ],
   "source": [
    "bcbp.T.iloc[0].T.values.mean(),bcbp.T.iloc[0].T.quantile(0.25),bcbp.T.iloc[0].T.quantile(0.75),bcbp.T.iloc[0].T.min(),bcbp.T.iloc[0].T.max()"
   ]
  },
  {
   "cell_type": "code",
   "execution_count": 244,
   "metadata": {},
   "outputs": [],
   "source": [
    "bp2 = ax.axvline(0,4354.3,7710.02)\n",
    "plt.show()"
   ]
  },
  {
   "cell_type": "code",
   "execution_count": 391,
   "metadata": {},
   "outputs": [
    {
     "data": {
      "image/png": "[encoded data removed]",
      "text/plain": [
       "<matplotlib.figure.Figure at 0x7fae3e5451d0>"
      ]
     },
     "metadata": {},
     "output_type": "display_data"
    }
   ],
   "source": [
    "colors = sns.color_palette()\n",
    "fig, ax = plt.subplots()\n",
    "v=True\n",
    "l = plt.axhline(5959,color=colors[1],linestyle=\"-\",linewidth=1,visible=v)\n",
    "u = plt.axhline(7149,color=colors[1],linestyle=\"-\",linewidth=1,visible=v)\n",
    "plt.axhline(6517.08,color=colors[1],linestyle=\"--\")\n",
    "to_plot = []\n",
    "for i,p in rbp.T.iloc[:300].T.iteritems():\n",
    "    to_plot.append(p[p.isnull()==False].values)\n",
    "    \n",
    "a = 1\n",
    "bp1 = ax.boxplot(to_plot,\n",
    "                whiskerprops={\"alpha\":a,\"color\":colors[0]},\n",
    "                flierprops={\"alpha\":0.0,\"color\":colors[0]},\n",
    "                boxprops={\"alpha\":a,\"color\":colors[0]},\n",
    "                capprops={\"alpha\":a,\"color\":colors[0]},\n",
    "                meanprops={\"color\":colors[2],\"linewidth\":5},\n",
    "                medianprops={\"alpha\":0},\n",
    "                meanline=True, \n",
    "                showmeans=True)\n",
    "\n",
    "plt.ylabel(\"\"\"Rank\\n(\"1\" being the highest rank)\"\"\")\n",
    "plt.xlabel(\"Gene set\")\n",
    "plt.xticks([])\n",
    "p1 = mpatches.Patch(color=colors[0],label=\"Random gene set\")\n",
    "l1 = plt.plot([],label=\"Mean rank from ELR gene set\\n with 25th and 75th quantiles\",color=colors[1],linestyle=\"--\")\n",
    "l2 = plt.plot([],label=\"Mean rank from random gene set\",color=colors[2],linestyle=\"--\")\n",
    "p = mpatches.Rectangle(\n",
    "    (0,5959), len(bp1[\"boxes\"])+1,1190,\n",
    "    fill=True, clip_on=True,transform=ax.transData,color=colors[1],alpha=0.2)\n",
    "ax.add_patch(p)\n",
    "plt.ylim(5700,8300)\n",
    "plt.legend(handles=[l1[0],l2[0],p1],loc=4)\n",
    "plt.gca().invert_yaxis()\n",
    "plt.savefig(\"EMCON_bc_relevance.jpeg\",dpi=500,transparent=False,bbox_inches=\"tight\")"
   ]
  },
  {
   "cell_type": "code",
   "execution_count": 356,
   "metadata": {},
   "outputs": [
    {
     "data": {
      "text/plain": [
       "([0, 1], [4354.3, 4354.3])"
      ]
     },
     "execution_count": 356,
     "metadata": {},
     "output_type": "execute_result"
    }
   ],
   "source": [
    "l.get_data()"
   ]
  },
  {
   "cell_type": "code",
   "execution_count": 298,
   "metadata": {},
   "outputs": [
    {
     "data": {
      "text/plain": [
       "[(0.29803921568627451, 0.44705882352941179, 0.69019607843137254),\n",
       " (0.33333333333333331, 0.6588235294117647, 0.40784313725490196),\n",
       " (0.7686274509803922, 0.30588235294117649, 0.32156862745098042),\n",
       " (0.50588235294117645, 0.44705882352941179, 0.69803921568627447),\n",
       " (0.80000000000000004, 0.72549019607843135, 0.45490196078431372),\n",
       " (0.39215686274509803, 0.70980392156862748, 0.80392156862745101)]"
      ]
     },
     "execution_count": 298,
     "metadata": {},
     "output_type": "execute_result"
    }
   ],
   "source": [
    "sns.color_palette()"
   ]
  },
  {
   "cell_type": "code",
   "execution_count": 83,
   "metadata": {},
   "outputs": [
    {
     "name": "stderr",
     "output_type": "stream",
     "text": [
      "/home/swatford/anaconda3/lib/python3.6/site-packages/numpy/core/_methods.py:29: RuntimeWarning: invalid value encountered in less_equal\n",
      "  return umr_minimum(a, axis, None, out, keepdims)\n"
     ]
    },
    {
     "ename": "ValueError",
     "evalue": "The truth value of an array with more than one element is ambiguous. Use a.any() or a.all()",
     "output_type": "error",
     "traceback": [
      "\u001b[0;31m---------------------------------------------------------------------------\u001b[0m",
      "\u001b[0;31mValueError\u001b[0m                                Traceback (most recent call last)",
      "\u001b[0;32m<ipython-input-83-eb63f63915ae>\u001b[0m in \u001b[0;36m<module>\u001b[0;34m()\u001b[0m\n\u001b[0;32m----> 1\u001b[0;31m \u001b[0mpd\u001b[0m\u001b[0;34m.\u001b[0m\u001b[0mSeries\u001b[0m\u001b[0;34m(\u001b[0m\u001b[0mrandom_gene_npmi_ranks\u001b[0m\u001b[0;34m)\u001b[0m\u001b[0;34m.\u001b[0m\u001b[0mhist\u001b[0m\u001b[0;34m(\u001b[0m\u001b[0mlabel\u001b[0m\u001b[0;34m=\u001b[0m\u001b[0;34m\"Randomly generated gene sets\"\u001b[0m\u001b[0;34m)\u001b[0m\u001b[0;34m\u001b[0m\u001b[0m\n\u001b[0m\u001b[1;32m      2\u001b[0m \u001b[0mplt\u001b[0m\u001b[0;34m.\u001b[0m\u001b[0mxlabel\u001b[0m\u001b[0;34m(\u001b[0m\u001b[0;34m\"Rank\"\u001b[0m\u001b[0;34m)\u001b[0m\u001b[0;34m\u001b[0m\u001b[0m\n\u001b[1;32m      3\u001b[0m \u001b[0mplt\u001b[0m\u001b[0;34m.\u001b[0m\u001b[0mylabel\u001b[0m\u001b[0;34m(\u001b[0m\u001b[0;34m\"Number of gene sets\"\u001b[0m\u001b[0;34m)\u001b[0m\u001b[0;34m\u001b[0m\u001b[0m\n\u001b[1;32m      4\u001b[0m \u001b[0;34m\u001b[0m\u001b[0m\n\u001b[1;32m      5\u001b[0m \u001b[0mplt\u001b[0m\u001b[0;34m.\u001b[0m\u001b[0maxvline\u001b[0m\u001b[0;34m(\u001b[0m\u001b[0mx\u001b[0m\u001b[0;34m=\u001b[0m\u001b[0mbc_results\u001b[0m\u001b[0;34m.\u001b[0m\u001b[0mswaplevel\u001b[0m\u001b[0;34m(\u001b[0m\u001b[0;36m0\u001b[0m\u001b[0;34m,\u001b[0m\u001b[0;36m1\u001b[0m\u001b[0;34m,\u001b[0m\u001b[0maxis\u001b[0m\u001b[0;34m=\u001b[0m\u001b[0;36m1\u001b[0m\u001b[0;34m)\u001b[0m\u001b[0;34m.\u001b[0m\u001b[0mnpmi_rank\u001b[0m\u001b[0;34m.\u001b[0m\u001b[0mmean\u001b[0m\u001b[0;34m(\u001b[0m\u001b[0maxis\u001b[0m\u001b[0;34m=\u001b[0m\u001b[0;36m1\u001b[0m\u001b[0;34m)\u001b[0m\u001b[0;34m[\u001b[0m\u001b[0mbc_genes\u001b[0m\u001b[0;34m]\u001b[0m\u001b[0;34m.\u001b[0m\u001b[0mmean\u001b[0m\u001b[0;34m(\u001b[0m\u001b[0;34m)\u001b[0m\u001b[0;34m,\u001b[0m\u001b[0mcolor\u001b[0m\u001b[0;34m=\u001b[0m\u001b[0;34m\"g\"\u001b[0m\u001b[0;34m,\u001b[0m\u001b[0mlabel\u001b[0m\u001b[0;34m=\u001b[0m\u001b[0;34m\"ELR gene set\"\u001b[0m\u001b[0;34m)\u001b[0m\u001b[0;34m\u001b[0m\u001b[0m\n",
      "\u001b[0;32m/home/swatford/anaconda3/lib/python3.6/site-packages/pandas/plotting/_core.py\u001b[0m in \u001b[0;36mhist_series\u001b[0;34m(self, by, ax, grid, xlabelsize, xrot, ylabelsize, yrot, figsize, bins, **kwds)\u001b[0m\n\u001b[1;32m   2188\u001b[0m         \u001b[0mvalues\u001b[0m \u001b[0;34m=\u001b[0m \u001b[0mself\u001b[0m\u001b[0;34m.\u001b[0m\u001b[0mdropna\u001b[0m\u001b[0;34m(\u001b[0m\u001b[0;34m)\u001b[0m\u001b[0;34m.\u001b[0m\u001b[0mvalues\u001b[0m\u001b[0;34m\u001b[0m\u001b[0m\n\u001b[1;32m   2189\u001b[0m \u001b[0;34m\u001b[0m\u001b[0m\n\u001b[0;32m-> 2190\u001b[0;31m         \u001b[0max\u001b[0m\u001b[0;34m.\u001b[0m\u001b[0mhist\u001b[0m\u001b[0;34m(\u001b[0m\u001b[0mvalues\u001b[0m\u001b[0;34m,\u001b[0m \u001b[0mbins\u001b[0m\u001b[0;34m=\u001b[0m\u001b[0mbins\u001b[0m\u001b[0;34m,\u001b[0m \u001b[0;34m**\u001b[0m\u001b[0mkwds\u001b[0m\u001b[0;34m)\u001b[0m\u001b[0;34m\u001b[0m\u001b[0m\n\u001b[0m\u001b[1;32m   2191\u001b[0m         \u001b[0max\u001b[0m\u001b[0;34m.\u001b[0m\u001b[0mgrid\u001b[0m\u001b[0;34m(\u001b[0m\u001b[0mgrid\u001b[0m\u001b[0;34m)\u001b[0m\u001b[0;34m\u001b[0m\u001b[0m\n\u001b[1;32m   2192\u001b[0m         \u001b[0maxes\u001b[0m \u001b[0;34m=\u001b[0m \u001b[0mnp\u001b[0m\u001b[0;34m.\u001b[0m\u001b[0marray\u001b[0m\u001b[0;34m(\u001b[0m\u001b[0;34m[\u001b[0m\u001b[0max\u001b[0m\u001b[0;34m]\u001b[0m\u001b[0;34m)\u001b[0m\u001b[0;34m\u001b[0m\u001b[0m\n",
      "\u001b[0;32m/home/swatford/anaconda3/lib/python3.6/site-packages/matplotlib/__init__.py\u001b[0m in \u001b[0;36minner\u001b[0;34m(ax, *args, **kwargs)\u001b[0m\n\u001b[1;32m   1896\u001b[0m                     warnings.warn(msg % (label_namer, func.__name__),\n\u001b[1;32m   1897\u001b[0m                                   RuntimeWarning, stacklevel=2)\n\u001b[0;32m-> 1898\u001b[0;31m             \u001b[0;32mreturn\u001b[0m \u001b[0mfunc\u001b[0m\u001b[0;34m(\u001b[0m\u001b[0max\u001b[0m\u001b[0;34m,\u001b[0m \u001b[0;34m*\u001b[0m\u001b[0margs\u001b[0m\u001b[0;34m,\u001b[0m \u001b[0;34m**\u001b[0m\u001b[0mkwargs\u001b[0m\u001b[0;34m)\u001b[0m\u001b[0;34m\u001b[0m\u001b[0m\n\u001b[0m\u001b[1;32m   1899\u001b[0m         \u001b[0mpre_doc\u001b[0m \u001b[0;34m=\u001b[0m \u001b[0minner\u001b[0m\u001b[0;34m.\u001b[0m\u001b[0m__doc__\u001b[0m\u001b[0;34m\u001b[0m\u001b[0m\n\u001b[1;32m   1900\u001b[0m         \u001b[0;32mif\u001b[0m \u001b[0mpre_doc\u001b[0m \u001b[0;32mis\u001b[0m \u001b[0;32mNone\u001b[0m\u001b[0;34m:\u001b[0m\u001b[0;34m\u001b[0m\u001b[0m\n",
      "\u001b[0;32m/home/swatford/anaconda3/lib/python3.6/site-packages/matplotlib/axes/_axes.py\u001b[0m in \u001b[0;36mhist\u001b[0;34m(***failed resolving arguments***)\u001b[0m\n\u001b[1;32m   6179\u001b[0m             \u001b[0;32mfor\u001b[0m \u001b[0mxi\u001b[0m \u001b[0;32min\u001b[0m \u001b[0mx\u001b[0m\u001b[0;34m:\u001b[0m\u001b[0;34m\u001b[0m\u001b[0m\n\u001b[1;32m   6180\u001b[0m                 \u001b[0;32mif\u001b[0m \u001b[0mlen\u001b[0m\u001b[0;34m(\u001b[0m\u001b[0mxi\u001b[0m\u001b[0;34m)\u001b[0m \u001b[0;34m>\u001b[0m \u001b[0;36m0\u001b[0m\u001b[0;34m:\u001b[0m\u001b[0;34m\u001b[0m\u001b[0m\n\u001b[0;32m-> 6181\u001b[0;31m                     \u001b[0mxmin\u001b[0m \u001b[0;34m=\u001b[0m \u001b[0mmin\u001b[0m\u001b[0;34m(\u001b[0m\u001b[0mxmin\u001b[0m\u001b[0;34m,\u001b[0m \u001b[0mxi\u001b[0m\u001b[0;34m.\u001b[0m\u001b[0mmin\u001b[0m\u001b[0;34m(\u001b[0m\u001b[0;34m)\u001b[0m\u001b[0;34m)\u001b[0m\u001b[0;34m\u001b[0m\u001b[0m\n\u001b[0m\u001b[1;32m   6182\u001b[0m                     \u001b[0mxmax\u001b[0m \u001b[0;34m=\u001b[0m \u001b[0mmax\u001b[0m\u001b[0;34m(\u001b[0m\u001b[0mxmax\u001b[0m\u001b[0;34m,\u001b[0m \u001b[0mxi\u001b[0m\u001b[0;34m.\u001b[0m\u001b[0mmax\u001b[0m\u001b[0;34m(\u001b[0m\u001b[0;34m)\u001b[0m\u001b[0;34m)\u001b[0m\u001b[0;34m\u001b[0m\u001b[0m\n\u001b[1;32m   6183\u001b[0m             \u001b[0mbin_range\u001b[0m \u001b[0;34m=\u001b[0m \u001b[0;34m(\u001b[0m\u001b[0mxmin\u001b[0m\u001b[0;34m,\u001b[0m \u001b[0mxmax\u001b[0m\u001b[0;34m)\u001b[0m\u001b[0;34m\u001b[0m\u001b[0m\n",
      "\u001b[0;32m/home/swatford/anaconda3/lib/python3.6/site-packages/numpy/core/_methods.py\u001b[0m in \u001b[0;36m_amin\u001b[0;34m(a, axis, out, keepdims)\u001b[0m\n\u001b[1;32m     27\u001b[0m \u001b[0;34m\u001b[0m\u001b[0m\n\u001b[1;32m     28\u001b[0m \u001b[0;32mdef\u001b[0m \u001b[0m_amin\u001b[0m\u001b[0;34m(\u001b[0m\u001b[0ma\u001b[0m\u001b[0;34m,\u001b[0m \u001b[0maxis\u001b[0m\u001b[0;34m=\u001b[0m\u001b[0;32mNone\u001b[0m\u001b[0;34m,\u001b[0m \u001b[0mout\u001b[0m\u001b[0;34m=\u001b[0m\u001b[0;32mNone\u001b[0m\u001b[0;34m,\u001b[0m \u001b[0mkeepdims\u001b[0m\u001b[0;34m=\u001b[0m\u001b[0;32mFalse\u001b[0m\u001b[0;34m)\u001b[0m\u001b[0;34m:\u001b[0m\u001b[0;34m\u001b[0m\u001b[0m\n\u001b[0;32m---> 29\u001b[0;31m     \u001b[0;32mreturn\u001b[0m \u001b[0mumr_minimum\u001b[0m\u001b[0;34m(\u001b[0m\u001b[0ma\u001b[0m\u001b[0;34m,\u001b[0m \u001b[0maxis\u001b[0m\u001b[0;34m,\u001b[0m \u001b[0;32mNone\u001b[0m\u001b[0;34m,\u001b[0m \u001b[0mout\u001b[0m\u001b[0;34m,\u001b[0m \u001b[0mkeepdims\u001b[0m\u001b[0;34m)\u001b[0m\u001b[0;34m\u001b[0m\u001b[0m\n\u001b[0m\u001b[1;32m     30\u001b[0m \u001b[0;34m\u001b[0m\u001b[0m\n\u001b[1;32m     31\u001b[0m \u001b[0;32mdef\u001b[0m \u001b[0m_sum\u001b[0m\u001b[0;34m(\u001b[0m\u001b[0ma\u001b[0m\u001b[0;34m,\u001b[0m \u001b[0maxis\u001b[0m\u001b[0;34m=\u001b[0m\u001b[0;32mNone\u001b[0m\u001b[0;34m,\u001b[0m \u001b[0mdtype\u001b[0m\u001b[0;34m=\u001b[0m\u001b[0;32mNone\u001b[0m\u001b[0;34m,\u001b[0m \u001b[0mout\u001b[0m\u001b[0;34m=\u001b[0m\u001b[0;32mNone\u001b[0m\u001b[0;34m,\u001b[0m \u001b[0mkeepdims\u001b[0m\u001b[0;34m=\u001b[0m\u001b[0;32mFalse\u001b[0m\u001b[0;34m)\u001b[0m\u001b[0;34m:\u001b[0m\u001b[0;34m\u001b[0m\u001b[0m\n",
      "\u001b[0;31mValueError\u001b[0m: The truth value of an array with more than one element is ambiguous. Use a.any() or a.all()"
     ]
    },
    {
     "data": {
      "image/png": "[encoded data removed]",
      "text/plain": [
       "<matplotlib.figure.Figure at 0x7fae4148f400>"
      ]
     },
     "metadata": {},
     "output_type": "display_data"
    }
   ],
   "source": [
    "pd.Series(random_gene_npmi_ranks).hist(label=\"Randomly generated gene sets\")\n",
    "plt.xlabel(\"Rank\")\n",
    "plt.ylabel(\"Number of gene sets\")\n",
    "\n",
    "plt.axvline(x=bc_results.swaplevel(0,1,axis=1).npmi_rank.mean(axis=1)[bc_genes].mean(),color=\"g\",label=\"ELR gene set\")\n",
    "plt.legend()\n",
    "plt.savefig(\"EMCON_bc_relevance.jpeg\",dpi=500,transparent=False,bbox_inches=\"tight\")"
   ]
  },
  {
   "cell_type": "code",
   "execution_count": null,
   "metadata": {
    "collapsed": true
   },
   "outputs": [],
   "source": [
    "for d in bc_results.columns.get_level_values(\"uid\"):\n",
    "    print(uid_name[d])"
   ]
  },
  {
   "cell_type": "code",
   "execution_count": null,
   "metadata": {},
   "outputs": [],
   "source": [
    "set(bc_genes)-set(bc_results.index.values)"
   ]
  },
  {
   "cell_type": "code",
   "execution_count": null,
   "metadata": {
    "collapsed": true
   },
   "outputs": [],
   "source": [
    "pd.Series(random_gene_chi2_ranks).hist()\n",
    "plt.title(\"chi2 distribution\")\n",
    "plt.axvline(x=bc_results.swaplevel(0,1,axis=1).chi2_rank.mean(axis=1)[bc_genes].mean(),color=\"r\")\n",
    "print(np.percentile(random_gene_chi2_ranks,5)-bc_results.swaplevel(0,1,axis=1).chi2_rank.mean(axis=1)[bc_genes].mean())"
   ]
  },
  {
   "cell_type": "code",
   "execution_count": null,
   "metadata": {
    "collapsed": true
   },
   "outputs": [],
   "source": [
    "pd.Series(random_gene_ll_ranks).hist()\n",
    "plt.title(\"log-liklihood distribution\")\n",
    "plt.axvline(x=bc_results.swaplevel(0,1,axis=1).ll_rank.mean(axis=1)[bc_genes].mean(),color=\"r\")\n",
    "print(np.percentile(random_gene_ll_ranks,5)-bc_results.swaplevel(0,1,axis=1).ll_rank.mean(axis=1)[bc_genes].mean())"
   ]
  },
  {
   "cell_type": "code",
   "execution_count": null,
   "metadata": {
    "collapsed": true
   },
   "outputs": [],
   "source": [
    "print(bc_results.swaplevel(0,1,axis=1).npmi_rank.mean(axis=1)[bc_genes].mean(),\n",
    "      bc_results.swaplevel(0,1,axis=1).chi2_rank.mean(axis=1)[bc_genes].mean(),\n",
    "      bc_results.swaplevel(0,1,axis=1).ll_rank.mean(axis=1)[bc_genes].mean()\n",
    "     )"
   ]
  },
  {
   "cell_type": "code",
   "execution_count": null,
   "metadata": {
    "collapsed": true
   },
   "outputs": [],
   "source": [
    "uids = gene_uid[gene_uid.gd_freq>2].uid.unique()"
   ]
  },
  {
   "cell_type": "code",
   "execution_count": null,
   "metadata": {
    "collapsed": true
   },
   "outputs": [],
   "source": [
    "random_mesh_list = np.random.choice(uids,(3000,17))"
   ]
  },
  {
   "cell_type": "code",
   "execution_count": null,
   "metadata": {
    "collapsed": true
   },
   "outputs": [],
   "source": [
    "random_mesh_list_w_children = []\n",
    "for i,rml in enumerate(random_mesh_list):\n",
    "    rml_tns = uid_tn[uid_tn.uid.isin(rml)].tn.values\n",
    "    random_mesh_list_w_children.append(list(rml)+\n",
    "                                       list(db.medline.descs.distinct(\"uid\",{\"ancestors\":{\"$in\":list(rml_tns)}})))"
   ]
  },
  {
   "cell_type": "code",
   "execution_count": null,
   "metadata": {
    "collapsed": true
   },
   "outputs": [],
   "source": [
    "searchable_gene_uid = gene_uid[(gene_uid.gd_freq>2) \n",
    "                               & (gene_uid.uid.isin(uids))].set_index(\"uid\",drop=False)"
   ]
  },
  {
   "cell_type": "code",
   "execution_count": null,
   "metadata": {
    "collapsed": true,
    "scrolled": true
   },
   "outputs": [],
   "source": [
    "dfs = []\n",
    "while len(dfs)<10000:\n",
    "    rml = list(np.random.choice(uids,17))\n",
    "    rml_tns = uid_tn[uid_tn.uid.isin(rml)].tn.values\n",
    "    rml+= list(db.medline.descs.distinct(\"uid\",{\"ancestors\":{\"$in\":list(rml_tns)}}))\n",
    "    try:\n",
    "        df = searchable_gene_uid.loc[rml].reset_index(drop=True).pivot(index=\"gene_id\",\n",
    "                                                                             columns=\"uid\")\n",
    "#         .npmi.fillna(0.0)\n",
    "#         if len(set(df.index.values)&set(bc_genes))/len(bc_genes)>=0.8:\n",
    "        dfs.append(df)\n",
    "        print(\"dfs: \",len(dfs))\n",
    "    except:\n",
    "        pass"
   ]
  },
  {
   "cell_type": "code",
   "execution_count": null,
   "metadata": {
    "collapsed": true
   },
   "outputs": [],
   "source": [
    "bc_df = searchable_gene_uid.loc[bc_uids].reset_index(drop=True)\n",
    "bc_df = bc_df[bc_df.gene_id.isnull()==False].drop_duplicates().pivot(\n",
    "                                                                    index=\"gene_id\",columns=\"uid\",values=\"npmi\")"
   ]
  },
  {
   "cell_type": "code",
   "execution_count": null,
   "metadata": {
    "collapsed": true
   },
   "outputs": [],
   "source": [
    "for c in bc_df:\n",
    "    bc_df[c].update(pd.Series(index=bc_df[c][bc_df[c]<0.0].index,data=0.0))\n",
    "bc_rank = bc_df.rank(ascending=False,\n",
    "        na_option=\"bottom\").loc[bc_genes].mean().mean()/len(bc_df.index.unique())"
   ]
  },
  {
   "cell_type": "code",
   "execution_count": null,
   "metadata": {
    "collapsed": true
   },
   "outputs": [],
   "source": [
    "random_mesh_ranks = []\n",
    "for df in dfs:\n",
    "#     for c in df:\n",
    "#         df[c].update(pd.Series(index=df[c][df[c]<0.0].index,data=0.0))\n",
    "    ranks = df.rank(na_option=\"bottom\")\n",
    "    random_mesh_ranks.append(((ranks.loc[bc_genes].mean().mean())/len(ranks.index.unique())))"
   ]
  },
  {
   "cell_type": "code",
   "execution_count": null,
   "metadata": {
    "collapsed": true
   },
   "outputs": [],
   "source": [
    "pd.Series(random_mesh_ranks).hist(label=\"Random MeSH Terms\")\n",
    "plt.axvline(bc_rank,c=\"r\",label=\"BC MeSH Terms\")\n",
    "plt.legend(loc=\"upper right\")\n",
    "plt.xlim(0.4,0.6)\n",
    "plt.title(\"Query Performance of Manually Selected MeSH Terms\")\n",
    "plt.xlabel(\"Average Rank (scaled to number of genes retrieved)\")\n",
    "plt.ylabel(\"Frequency\")"
   ]
  },
  {
   "cell_type": "code",
   "execution_count": null,
   "metadata": {
    "collapsed": true
   },
   "outputs": [],
   "source": [
    "percentileofscore(random_mesh_ranks,bc_rank)"
   ]
  },
  {
   "cell_type": "code",
   "execution_count": null,
   "metadata": {
    "collapsed": true
   },
   "outputs": [],
   "source": [
    "bc_gwas_genes = pd.read_table(\"../data/SSI/BC_GWAS_genes.txt\")"
   ]
  },
  {
   "cell_type": "code",
   "execution_count": null,
   "metadata": {
    "collapsed": true
   },
   "outputs": [],
   "source": [
    "bc_gwas_genes = bc_gwas_genes[bc_gwas_genes.Species==\"Homo sapiens\"].copy()"
   ]
  },
  {
   "cell_type": "code",
   "execution_count": null,
   "metadata": {
    "collapsed": true
   },
   "outputs": [],
   "source": [
    "bc_gwas_genes = bc_gwas_genes.To.unique()"
   ]
  },
  {
   "cell_type": "code",
   "execution_count": null,
   "metadata": {
    "collapsed": true
   },
   "outputs": [],
   "source": [
    "bc_df.rank(ascending=False,\n",
    "        na_option=\"bottom\").loc[bc_gwas_genes].mean().mean()/len(bc_df.index.unique())"
   ]
  },
  {
   "cell_type": "code",
   "execution_count": null,
   "metadata": {
    "collapsed": true
   },
   "outputs": [],
   "source": [
    "set(bc_gwas_genes) & set(bc_genes)"
   ]
  },
  {
   "cell_type": "code",
   "execution_count": null,
   "metadata": {
    "collapsed": true
   },
   "outputs": [],
   "source": [
    "len(bc_gwas_genes),len(bc_genes),len(set(bc_gwas_genes) | set(bc_genes))"
   ]
  },
  {
   "cell_type": "code",
   "execution_count": null,
   "metadata": {
    "collapsed": true
   },
   "outputs": [],
   "source": [
    "import pickle\n",
    "with open(\"../data/SSI/bc_uids.p\",\"wb\") as f:\n",
    "    pickle.dump(bc_uids,f)"
   ]
  },
  {
   "cell_type": "code",
   "execution_count": null,
   "metadata": {
    "collapsed": true
   },
   "outputs": [],
   "source": [
    "to_export = bc_results.swaplevel(0,1,axis=1).npmi_rank.copy()[[\"D009389\",\"D018919\",\"D017209\",\"D002453\",\"D057890\",\"D004249\",\"D004260\",\"D013006\",\"D002470\",\"D007107\",\n",
    "    \"D007249\",\"D001940\",\"D001941\",\"D018384\",\"D049109\",\"D012739\",\"D015262\"]]"
   ]
  },
  {
   "cell_type": "code",
   "execution_count": null,
   "metadata": {
    "collapsed": true
   },
   "outputs": [],
   "source": [
    "to_export.columns = pd.MultiIndex.from_tuples([(uid_name[x],x) for x in to_export.columns],names=[\"name\",\"uid\"])"
   ]
  },
  {
   "cell_type": "code",
   "execution_count": null,
   "metadata": {
    "collapsed": true
   },
   "outputs": [],
   "source": [
    "to_export.index = pd.MultiIndex.from_tuples([(x,dict(db.genes.find_one({\"gene_id\":x}))[\"symbol\"]) if x!=401388 else (7979,\"SEM1\") for x in to_export.index],names=[\"gene_id\",\"symbol\"])"
   ]
  },
  {
   "cell_type": "code",
   "execution_count": null,
   "metadata": {
    "collapsed": true
   },
   "outputs": [],
   "source": [
    "to_export.to_csv(\"bc_results.csv\")"
   ]
  },
  {
   "cell_type": "code",
   "execution_count": null,
   "metadata": {},
   "outputs": [],
   "source": [
    "set(bc_genes)|set(bc_results.index)"
   ]
  },
  {
   "cell_type": "code",
   "execution_count": null,
   "metadata": {
    "collapsed": true
   },
   "outputs": [],
   "source": [
    "bc_results_genes = set()\n",
    "for col in bc_results.swaplevel(0,1,axis=1).npmi:\n",
    "    for g in bc_results[col][bc_results[col].npmi>0.0].index:\n",
    "        bc_results_genes.add(g)"
   ]
  },
  {
   "cell_type": "code",
   "execution_count": null,
   "metadata": {},
   "outputs": [],
   "source": [
    "set(bc_genes) - bc_results_genes"
   ]
  },
  {
   "cell_type": "code",
   "execution_count": null,
   "metadata": {},
   "outputs": [],
   "source": [
    "len(bc_genes)-5"
   ]
  },
  {
   "cell_type": "code",
   "execution_count": null,
   "metadata": {},
   "outputs": [],
   "source": [
    "gene_uid[(gene_uid.gene_id==6531)&(gene_uid.gd_freq>2)&(gene_uid.npmi>0.0)]"
   ]
  },
  {
   "cell_type": "code",
   "execution_count": null,
   "metadata": {
    "collapsed": true
   },
   "outputs": [],
   "source": []
  }
 ],
 "metadata": {
  "kernelspec": {
   "display_name": "Python 3",
   "language": "python",
   "name": "python3"
  },
  "language_info": {
   "codemirror_mode": {
    "name": "ipython",
    "version": 3
   },
   "file_extension": ".py",
   "mimetype": "text/x-python",
   "name": "python",
   "nbconvert_exporter": "python",
   "pygments_lexer": "ipython3",
   "version": "3.6.0"
  }
 },
 "nbformat": 4,
 "nbformat_minor": 2
}
