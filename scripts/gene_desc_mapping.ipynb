{
 "cells": [
  {
   "cell_type": "code",
   "execution_count": 1,
   "metadata": {
    "collapsed": true
   },
   "outputs": [],
   "source": [
    "import pandas as pd\n",
    "import pymongo\n",
    "from ipyparallel import Client"
   ]
  },
  {
   "cell_type": "code",
   "execution_count": 2,
   "metadata": {
    "collapsed": true
   },
   "outputs": [],
   "source": [
    "client = pymongo.MongoClient()\n",
    "db = client.swatford"
   ]
  },
  {
   "cell_type": "code",
   "execution_count": 4,
   "metadata": {},
   "outputs": [],
   "source": [
    "gene_pmids = pd.DataFrame(list(db.medline.genes.mappings.find({},{\"_id\":0})))"
   ]
  },
  {
   "cell_type": "code",
   "execution_count": 5,
   "metadata": {
    "collapsed": true
   },
   "outputs": [],
   "source": [
    "pmids = gene_pmids.pmid.unique()"
   ]
  },
  {
   "cell_type": "code",
   "execution_count": 6,
   "metadata": {
    "collapsed": true
   },
   "outputs": [],
   "source": [
    "rc = Client()"
   ]
  },
  {
   "cell_type": "code",
   "execution_count": 7,
   "metadata": {},
   "outputs": [
    {
     "name": "stdout",
     "output_type": "stream",
     "text": [
      "importing pymongo on engine(s)\n"
     ]
    }
   ],
   "source": [
    "with rc[:].sync_imports():\n",
    "    import pymongo"
   ]
  },
  {
   "cell_type": "code",
   "execution_count": 8,
   "metadata": {
    "collapsed": true
   },
   "outputs": [],
   "source": [
    "%%px\n",
    "client = pymongo.MongoClient()\n",
    "db = client.swatford"
   ]
  },
  {
   "cell_type": "code",
   "execution_count": 9,
   "metadata": {
    "collapsed": true
   },
   "outputs": [],
   "source": [
    "for i in rc.ids:\n",
    "    rc[i].push({\"pmids\":pmids[(len(pmids)//8+1)*i:(len(pmids)//8+1)*(i+1)].copy(),\"gene_pmids\":gene_pmids})"
   ]
  },
  {
   "cell_type": "code",
   "execution_count": 10,
   "metadata": {
    "collapsed": true
   },
   "outputs": [],
   "source": [
    "def gene_desc_map():\n",
    "    to_insert = []\n",
    "    to_insert_an = []\n",
    "    for i,pmid in enumerate(pmids):\n",
    "#         for doc in db.medline.descs.mappings.find({\"pmid\":pmid},{\"_id\":0,\"name\":0}):\n",
    "#             for g in gene_pmids[gene_pmids.pmid==pmid].gene_id:\n",
    "#                 doc[\"gene_id\"] = g\n",
    "#                 to_insert.append(doc.copy())\n",
    "        for doc in db.medline.descs.ancestors.mappings.find({\"pmid\":pmid},{\"_id\":0}):\n",
    "            for g in gene_pmids[gene_pmids.pmid==pmid].gene_id:\n",
    "                doc[\"gene_id\"] = g\n",
    "                to_insert_an.append(doc.copy())\n",
    "#         if len(to_insert)>=25000:\n",
    "#             db.genes.descs.original.insert_many(to_insert)\n",
    "#             to_insert = []\n",
    "        if len(to_insert_an)>=25000:\n",
    "            db.genes.descs.ancestors.insert_many(to_insert_an)\n",
    "            to_insert_an = []\n",
    "        if i%2000==0:\n",
    "            print(i)\n",
    "    db.genes.descs.ancestors.insert_many(to_insert) if len(to_insert_an)>=25000 else None\n",
    "#     db.genes.descs.original.insert_many(to_insert) if len(to_insert)>=25000 else None"
   ]
  },
  {
   "cell_type": "code",
   "execution_count": 11,
   "metadata": {
    "collapsed": true
   },
   "outputs": [],
   "source": [
    "ar = rc[:].apply_async(gene_desc_map)"
   ]
  },
  {
   "cell_type": "code",
   "execution_count": null,
   "metadata": {
    "collapsed": true
   },
   "outputs": [],
   "source": []
  },
  {
   "cell_type": "code",
   "execution_count": null,
   "metadata": {
    "collapsed": true
   },
   "outputs": [],
   "source": []
  },
  {
   "cell_type": "code",
   "execution_count": null,
   "metadata": {},
   "outputs": [],
   "source": [
    "len(pmids)"
   ]
  },
  {
   "cell_type": "code",
   "execution_count": 39,
   "metadata": {},
   "outputs": [
    {
     "name": "stdout",
     "output_type": "stream",
     "text": [
      "14693\n"
     ]
    }
   ],
   "source": [
    "i=0\n",
    "for x in ar.stdout:\n",
    "    i+=int(x.strip().split(\"\\n\")[-1])\n",
    "print(len(pmids)-i)"
   ]
  },
  {
   "cell_type": "code",
   "execution_count": 40,
   "metadata": {},
   "outputs": [
    {
     "data": {
      "text/plain": [
       "['0\\n2000\\n4000\\n6000\\n8000\\n10000\\n12000\\n14000\\n16000\\n18000\\n20000\\n22000\\n24000\\n26000\\n28000\\n30000\\n32000\\n34000\\n36000\\n38000\\n40000\\n42000\\n44000\\n46000\\n48000\\n50000\\n52000\\n54000\\n56000\\n58000\\n60000\\n62000\\n64000\\n66000\\n68000\\n70000\\n72000\\n74000\\n76000\\n78000\\n80000\\n82000\\n84000\\n86000\\n88000\\n90000\\n92000\\n94000\\n96000\\n98000\\n100000\\n102000\\n104000\\n106000\\n108000\\n110000\\n',\n",
       " '0\\n2000\\n4000\\n6000\\n8000\\n10000\\n12000\\n14000\\n16000\\n18000\\n20000\\n22000\\n24000\\n26000\\n28000\\n30000\\n32000\\n34000\\n36000\\n38000\\n40000\\n42000\\n44000\\n46000\\n48000\\n50000\\n52000\\n54000\\n56000\\n58000\\n60000\\n62000\\n64000\\n66000\\n68000\\n70000\\n72000\\n74000\\n76000\\n78000\\n80000\\n82000\\n84000\\n86000\\n88000\\n90000\\n92000\\n94000\\n96000\\n98000\\n100000\\n102000\\n104000\\n106000\\n108000\\n110000\\n',\n",
       " '0\\n2000\\n4000\\n6000\\n8000\\n10000\\n12000\\n14000\\n16000\\n18000\\n20000\\n22000\\n24000\\n26000\\n28000\\n30000\\n32000\\n34000\\n36000\\n38000\\n40000\\n42000\\n44000\\n46000\\n48000\\n50000\\n52000\\n54000\\n56000\\n58000\\n60000\\n62000\\n64000\\n66000\\n68000\\n70000\\n72000\\n74000\\n76000\\n78000\\n80000\\n82000\\n84000\\n86000\\n88000\\n90000\\n92000\\n94000\\n96000\\n98000\\n100000\\n102000\\n104000\\n106000\\n108000\\n110000\\n',\n",
       " '0\\n2000\\n4000\\n6000\\n8000\\n10000\\n12000\\n14000\\n16000\\n18000\\n20000\\n22000\\n24000\\n26000\\n28000\\n30000\\n32000\\n34000\\n36000\\n38000\\n40000\\n42000\\n44000\\n46000\\n48000\\n50000\\n52000\\n54000\\n56000\\n58000\\n60000\\n62000\\n64000\\n66000\\n68000\\n70000\\n72000\\n74000\\n76000\\n78000\\n80000\\n82000\\n84000\\n86000\\n88000\\n90000\\n92000\\n94000\\n96000\\n98000\\n100000\\n102000\\n104000\\n106000\\n108000\\n110000\\n',\n",
       " '0\\n2000\\n4000\\n6000\\n8000\\n10000\\n12000\\n14000\\n16000\\n18000\\n20000\\n22000\\n24000\\n26000\\n28000\\n30000\\n32000\\n34000\\n36000\\n38000\\n40000\\n42000\\n44000\\n46000\\n48000\\n50000\\n52000\\n54000\\n56000\\n58000\\n60000\\n62000\\n64000\\n66000\\n68000\\n70000\\n72000\\n74000\\n76000\\n78000\\n80000\\n82000\\n84000\\n86000\\n88000\\n90000\\n92000\\n94000\\n96000\\n98000\\n100000\\n102000\\n104000\\n106000\\n108000\\n110000\\n',\n",
       " '0\\n2000\\n4000\\n6000\\n8000\\n10000\\n12000\\n14000\\n16000\\n18000\\n20000\\n22000\\n24000\\n26000\\n28000\\n30000\\n32000\\n34000\\n36000\\n38000\\n40000\\n42000\\n44000\\n46000\\n48000\\n50000\\n52000\\n54000\\n56000\\n58000\\n60000\\n62000\\n64000\\n66000\\n68000\\n70000\\n72000\\n74000\\n76000\\n78000\\n80000\\n82000\\n84000\\n86000\\n88000\\n90000\\n92000\\n94000\\n96000\\n98000\\n100000\\n102000\\n104000\\n106000\\n108000\\n110000\\n',\n",
       " '0\\n2000\\n4000\\n6000\\n8000\\n10000\\n12000\\n14000\\n16000\\n18000\\n20000\\n22000\\n24000\\n26000\\n28000\\n30000\\n32000\\n34000\\n36000\\n38000\\n40000\\n42000\\n44000\\n46000\\n48000\\n50000\\n52000\\n54000\\n56000\\n58000\\n60000\\n62000\\n64000\\n66000\\n68000\\n70000\\n72000\\n74000\\n76000\\n78000\\n80000\\n82000\\n84000\\n86000\\n88000\\n90000\\n92000\\n94000\\n96000\\n98000\\n100000\\n102000\\n104000\\n106000\\n108000\\n110000\\n',\n",
       " '0\\n2000\\n4000\\n6000\\n8000\\n10000\\n12000\\n14000\\n16000\\n18000\\n20000\\n22000\\n24000\\n26000\\n28000\\n30000\\n32000\\n34000\\n36000\\n38000\\n40000\\n42000\\n44000\\n46000\\n48000\\n50000\\n52000\\n54000\\n56000\\n58000\\n60000\\n62000\\n64000\\n66000\\n68000\\n70000\\n72000\\n74000\\n76000\\n78000\\n80000\\n82000\\n84000\\n86000\\n88000\\n90000\\n92000\\n94000\\n96000\\n98000\\n100000\\n102000\\n104000\\n106000\\n108000\\n110000\\n']"
      ]
     },
     "execution_count": 40,
     "metadata": {},
     "output_type": "execute_result"
    }
   ],
   "source": [
    "ar.stdout"
   ]
  },
  {
   "cell_type": "code",
   "execution_count": 41,
   "metadata": {},
   "outputs": [
    {
     "data": {
      "text/plain": [
       "[datetime.datetime(2017, 7, 1, 1, 3, 57, 899960, tzinfo=tzlocal()),\n",
       " datetime.datetime(2017, 7, 1, 0, 58, 26, 87250, tzinfo=tzlocal()),\n",
       " datetime.datetime(2017, 7, 1, 0, 47, 1, 227825, tzinfo=tzlocal()),\n",
       " datetime.datetime(2017, 7, 1, 0, 53, 53, 504091, tzinfo=tzlocal()),\n",
       " datetime.datetime(2017, 7, 1, 0, 47, 17, 740292, tzinfo=tzlocal()),\n",
       " datetime.datetime(2017, 7, 1, 0, 38, 32, 473062, tzinfo=tzlocal()),\n",
       " datetime.datetime(2017, 6, 30, 22, 43, 35, 495205, tzinfo=tzlocal()),\n",
       " datetime.datetime(2017, 7, 1, 0, 32, 21, 36567, tzinfo=tzlocal())]"
      ]
     },
     "execution_count": 41,
     "metadata": {},
     "output_type": "execute_result"
    }
   ],
   "source": [
    "ar.completed"
   ]
  },
  {
   "cell_type": "code",
   "execution_count": null,
   "metadata": {},
   "outputs": [],
   "source": [
    "ar.elapsed/3600"
   ]
  },
  {
   "cell_type": "code",
   "execution_count": null,
   "metadata": {
    "collapsed": true
   },
   "outputs": [],
   "source": []
  }
 ],
 "metadata": {
  "kernelspec": {
   "display_name": "Python 3",
   "language": "python",
   "name": "python3"
  },
  "language_info": {
   "codemirror_mode": {
    "name": "ipython",
    "version": 3
   },
   "file_extension": ".py",
   "mimetype": "text/x-python",
   "name": "python",
   "nbconvert_exporter": "python",
   "pygments_lexer": "ipython3",
   "version": "3.6.0"
  }
 },
 "nbformat": 4,
 "nbformat_minor": 2
}
