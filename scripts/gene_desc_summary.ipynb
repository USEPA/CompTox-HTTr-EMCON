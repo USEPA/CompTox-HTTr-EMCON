{
 "cells": [
  {
   "cell_type": "code",
   "execution_count": 1,
   "metadata": {
    "collapsed": true
   },
   "outputs": [],
   "source": [
    "import pandas as pd\n",
    "import pymongo\n",
    "from numba import vectorize,float64\n",
    "import numpy as np\n",
    "from scipy.stats import chi2_contingency,percentileofscore\n",
    "import matplotlib.pyplot as plt\n",
    "\n",
    "%matplotlib inline"
   ]
  },
  {
   "cell_type": "code",
   "execution_count": 2,
   "metadata": {
    "collapsed": true
   },
   "outputs": [],
   "source": [
    "client = pymongo.MongoClient()\n",
    "db = client.swatford"
   ]
  },
  {
   "cell_type": "code",
   "execution_count": 3,
   "metadata": {
    "collapsed": true
   },
   "outputs": [],
   "source": [
    "genes = pd.Series([doc[\"_id\"] for doc in db.genes.descs.ancestors.aggregate([{\"$group\":{\"_id\":\"$gene_id\"}}])])\n",
    "# genes = pd.Series([doc[\"_id\"] for doc in db.genes.descs.original.aggregate([{\"$group\":{\"_id\":\"$gene_id\"}}])])"
   ]
  },
  {
   "cell_type": "code",
   "execution_count": 4,
   "metadata": {
    "collapsed": true
   },
   "outputs": [],
   "source": [
    "uids = pd.Series([doc[\"_id\"] for doc in db.genes.descs.ancestors.aggregate([{\"$group\":{\"_id\":\"$uid\"}}])])\n",
    "# uids = pd.Series([doc[\"_id\"] for doc in db.genes.descs.original.aggregate([{\"$group\":{\"_id\":\"$uid\"}}])])"
   ]
  },
  {
   "cell_type": "code",
   "execution_count": 5,
   "metadata": {
    "collapsed": true
   },
   "outputs": [],
   "source": [
    "pmids = pd.Series([doc[\"_id\"] for doc in db.genes.descs.ancestors.aggregate([{\"$group\":{\"_id\":\"$pmid\"}}])])\n",
    "# pmids = pd.Series([doc[\"_id\"] for doc in db.genes.descs.original.aggregate([{\"$group\":{\"_id\":\"$pmid\"}}])])"
   ]
  },
  {
   "cell_type": "code",
   "execution_count": 6,
   "metadata": {
    "collapsed": true
   },
   "outputs": [],
   "source": [
    "df = pd.DataFrame([{\"gene_id\":doc[\"_id\"][\"gene_id\"],\n",
    "                    \"uid\":doc[\"_id\"][\"uid\"],\n",
    "                    \"gd_freq\":doc[\"count\"]\n",
    "                   } for doc in db.genes.descs.original.aggregate(\n",
    "    [{\"$group\":{\"_id\":{\"uid\":\"$uid\",\"gene_id\":\"$gene_id\"},\"count\":{\"$sum\":1}}}],allowDiskUse=True)])\n",
    "# df = pd.DataFrame([{\"gene_id\":doc[\"_id\"][\"gene_id\"],\n",
    "#                     \"uid\":doc[\"_id\"][\"uid\"],\n",
    "#                     \"gd_freq\":doc[\"count\"]\n",
    "#                    } for doc in db.genes.descs.original.aggregate(\n",
    "#     [{\"$group\":{\"_id\":{\"uid\":\"$uid\",\"gene_id\":\"$gene_id\"},\"count\":{\"$sum\":1}}}],allowDiskUse=True)])"
   ]
  },
  {
   "cell_type": "code",
   "execution_count": 7,
   "metadata": {
    "collapsed": true
   },
   "outputs": [],
   "source": [
    "g_freq = pd.DataFrame([{\"gene_id\":doc[\"_id\"],\"g_freq\":doc[\"g_freq\"]} \n",
    "              for doc in db.genes.descs.original.aggregate([{\"$group\":{\"_id\":\"$gene_id\",\"g_freq\":{\"$sum\":1}}}])])\n",
    "# g_freq = pd.DataFrame([{\"gene_id\":doc[\"_id\"],\"g_freq\":doc[\"g_freq\"]} \n",
    "#               for doc in db.genes.descs.original.aggregate([{\"$group\":{\"_id\":\"$gene_id\",\"g_freq\":{\"$sum\":1}}}])])"
   ]
  },
  {
   "cell_type": "code",
   "execution_count": 8,
   "metadata": {
    "collapsed": true
   },
   "outputs": [],
   "source": [
    "d_freq = pd.DataFrame([{\"uid\":doc[\"_id\"],\"d_freq\":doc[\"d_freq\"]} \n",
    "              for doc in db.genes.descs.ancestors.aggregate([{\"$group\":{\"_id\":\"$uid\",\"d_freq\":{\"$sum\":1}}}])])\n",
    "# d_freq = pd.DataFrame([{\"uid\":doc[\"_id\"],\"d_freq\":doc[\"d_freq\"]} \n",
    "#               for doc in db.genes.descs.original.aggregate([{\"$group\":{\"_id\":\"$uid\",\"d_freq\":{\"$sum\":1}}}])])"
   ]
  },
  {
   "cell_type": "code",
   "execution_count": 9,
   "metadata": {
    "collapsed": true
   },
   "outputs": [],
   "source": [
    "gene_uid = df.merge(g_freq).merge(d_freq)"
   ]
  },
  {
   "cell_type": "code",
   "execution_count": 10,
   "metadata": {
    "collapsed": true
   },
   "outputs": [],
   "source": [
    "gene_uid.to_pickle(\"../data/SSI/gene_uid.p\")\n",
    "# gene_uid.to_pickle(\"../data/SSI/gene_uid_original.p\")"
   ]
  },
  {
   "cell_type": "code",
   "execution_count": null,
   "metadata": {
    "collapsed": true
   },
   "outputs": [],
   "source": []
  }
 ],
 "metadata": {
  "kernelspec": {
   "display_name": "Python 3",
   "language": "python",
   "name": "python3"
  },
  "language_info": {
   "codemirror_mode": {
    "name": "ipython",
    "version": 3
   },
   "file_extension": ".py",
   "mimetype": "text/x-python",
   "name": "python",
   "nbconvert_exporter": "python",
   "pygments_lexer": "ipython3",
   "version": "3.6.0"
  }
 },
 "nbformat": 4,
 "nbformat_minor": 2
}
