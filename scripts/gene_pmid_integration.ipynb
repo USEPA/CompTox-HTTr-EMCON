{
 "cells": [
  {
   "cell_type": "code",
   "execution_count": 1,
   "metadata": {
    "collapsed": true
   },
   "outputs": [],
   "source": [
    "import pandas as pd\n",
    "import pymongo"
   ]
  },
  {
   "cell_type": "code",
   "execution_count": 2,
   "metadata": {
    "collapsed": true
   },
   "outputs": [],
   "source": [
    "client = pymongo.MongoClient()\n",
    "db = client.swatford"
   ]
  },
  {
   "cell_type": "code",
   "execution_count": 3,
   "metadata": {},
   "outputs": [
    {
     "data": {
      "text/plain": [
       "['uniprot',\n",
       " 'medline.descs.mappings',\n",
       " 'reactome',\n",
       " 'gene2pubmed',\n",
       " 'mgi',\n",
       " 'ctd',\n",
       " 'system.indexes',\n",
       " 'medline.descs.ancestors.mappings',\n",
       " 'rgd',\n",
       " 'generif',\n",
       " 'medline.descs',\n",
       " 'genes.human.mappings']"
      ]
     },
     "execution_count": 3,
     "metadata": {},
     "output_type": "execute_result"
    }
   ],
   "source": [
    "db.collection_names()"
   ]
  },
  {
   "cell_type": "code",
   "execution_count": 4,
   "metadata": {
    "collapsed": true
   },
   "outputs": [],
   "source": [
    "human_gene_map = pd.DataFrame(list(db.genes.human.mappings.find({},{\"_id\":0,\"gene_id\":1,\"human_gene_id\":1})))"
   ]
  },
  {
   "cell_type": "code",
   "execution_count": 13,
   "metadata": {
    "collapsed": true
   },
   "outputs": [],
   "source": [
    "uniprot = pd.DataFrame(list(db.uniprot.find({},{\"_id\":0,\"gene_id\":1,\"pmid\":1}))).merge(human_gene_map).drop_duplicates()"
   ]
  },
  {
   "cell_type": "code",
   "execution_count": 15,
   "metadata": {},
   "outputs": [],
   "source": [
    "reactome = pd.DataFrame(list(db.reactome.find({},{\"_id\":0,\"gene_id\":1,\"pmid\":1}))).merge(human_gene_map).drop_duplicates()"
   ]
  },
  {
   "cell_type": "code",
   "execution_count": 17,
   "metadata": {},
   "outputs": [],
   "source": [
    "gene2pubmed = pd.DataFrame(list(db.gene2pubmed.find({},{\"_id\":0,\n",
    "                                                    \"gene_id\":1,\"pmid\":1}))).merge(human_gene_map).drop_duplicates()"
   ]
  },
  {
   "cell_type": "code",
   "execution_count": 18,
   "metadata": {
    "collapsed": true
   },
   "outputs": [],
   "source": [
    "mgi = pd.DataFrame(list(db.mgi.find({},{\"_id\":0,\"gene_id\":1,\"pmid\":1}))).merge(human_gene_map).drop_duplicates()"
   ]
  },
  {
   "cell_type": "code",
   "execution_count": 19,
   "metadata": {
    "collapsed": true
   },
   "outputs": [],
   "source": [
    "ctd = pd.DataFrame(list(db.ctd.find({},{\"_id\":0,\"gene_id\":1,\"pmid\":1}))).merge(human_gene_map).drop_duplicates()"
   ]
  },
  {
   "cell_type": "code",
   "execution_count": 20,
   "metadata": {
    "collapsed": true
   },
   "outputs": [],
   "source": [
    "rgd = pd.DataFrame(list(db.rgd.find({},{\"_id\":0,\"gene_id\":1,\"pmid\":1}))).merge(human_gene_map).drop_duplicates()"
   ]
  },
  {
   "cell_type": "code",
   "execution_count": 21,
   "metadata": {
    "collapsed": true
   },
   "outputs": [],
   "source": [
    "generif = pd.DataFrame(list(db.generif.find({},{\"_id\":0,\"gene_id\":1,\"pmid\":1}))).merge(human_gene_map).drop_duplicates()"
   ]
  },
  {
   "cell_type": "code",
   "execution_count": 22,
   "metadata": {
    "collapsed": true
   },
   "outputs": [],
   "source": [
    "gene_pmid = pd.concat([uniprot,reactome,gene2pubmed,mgi,ctd,rgd,generif]).drop_duplicates()"
   ]
  },
  {
   "cell_type": "code",
   "execution_count": 24,
   "metadata": {},
   "outputs": [
    {
     "data": {
      "text/plain": [
       "4786543"
      ]
     },
     "execution_count": 24,
     "metadata": {},
     "output_type": "execute_result"
    }
   ],
   "source": [
    "len(gene_pmid)"
   ]
  },
  {
   "cell_type": "code",
   "execution_count": 26,
   "metadata": {},
   "outputs": [
    {
     "data": {
      "text/plain": [
       "(4786543, 3506689, 3797237)"
      ]
     },
     "execution_count": 26,
     "metadata": {},
     "output_type": "execute_result"
    }
   ],
   "source": [
    "len(gene_pmid),len(gene_pmid[[\"gene_id\",\"pmid\"]].drop_duplicates()),len(gene_pmid[[\"human_gene_id\",\"pmid\"]].drop_duplicates())"
   ]
  },
  {
   "cell_type": "code",
   "execution_count": 27,
   "metadata": {
    "collapsed": true
   },
   "outputs": [],
   "source": [
    "gene_pmid = gene_pmid[[\"human_gene_id\",\"pmid\"]].rename(columns={\"human_gene_id\":\"gene_id\"}).drop_duplicates()"
   ]
  },
  {
   "cell_type": "code",
   "execution_count": 30,
   "metadata": {},
   "outputs": [
    {
     "data": {
      "text/plain": [
       "894693"
      ]
     },
     "execution_count": 30,
     "metadata": {},
     "output_type": "execute_result"
    }
   ],
   "source": [
    "len(gene_pmid.pmid.unique())"
   ]
  },
  {
   "cell_type": "code",
   "execution_count": 31,
   "metadata": {},
   "outputs": [
    {
     "data": {
      "text/plain": [
       "19282"
      ]
     },
     "execution_count": 31,
     "metadata": {},
     "output_type": "execute_result"
    }
   ],
   "source": [
    "len(gene_pmid.gene_id.unique())"
   ]
  },
  {
   "cell_type": "code",
   "execution_count": 32,
   "metadata": {},
   "outputs": [
    {
     "data": {
      "text/plain": [
       "<pymongo.results.InsertManyResult at 0x7f229efeadc8>"
      ]
     },
     "execution_count": 32,
     "metadata": {},
     "output_type": "execute_result"
    }
   ],
   "source": [
    "db.medline.genes.mappings.insert_many(gene_pmid.to_dict(orient=\"records\"))"
   ]
  },
  {
   "cell_type": "code",
   "execution_count": null,
   "metadata": {
    "collapsed": true
   },
   "outputs": [],
   "source": []
  }
 ],
 "metadata": {
  "kernelspec": {
   "display_name": "Python 3",
   "language": "python",
   "name": "python3"
  },
  "language_info": {
   "codemirror_mode": {
    "name": "ipython",
    "version": 3
   },
   "file_extension": ".py",
   "mimetype": "text/x-python",
   "name": "python",
   "nbconvert_exporter": "python",
   "pygments_lexer": "ipython3",
   "version": "3.6.0"
  }
 },
 "nbformat": 4,
 "nbformat_minor": 2
}
