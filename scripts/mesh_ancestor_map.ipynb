{
 "cells": [
  {
   "cell_type": "code",
   "execution_count": 1,
   "metadata": {
    "collapsed": true
   },
   "outputs": [],
   "source": [
    "from ipyparallel import Client\n",
    "import pandas\n",
    "import pymongo"
   ]
  },
  {
   "cell_type": "code",
   "execution_count": 2,
   "metadata": {
    "collapsed": true
   },
   "outputs": [],
   "source": [
    "client = pymongo.MongoClient()\n",
    "db = client.swatford"
   ]
  },
  {
   "cell_type": "code",
   "execution_count": 3,
   "metadata": {
    "collapsed": true
   },
   "outputs": [],
   "source": [
    "descs = pandas.DataFrame([doc for doc in db.medline.descs.find({},{\"_id\":0})])"
   ]
  },
  {
   "cell_type": "code",
   "execution_count": 4,
   "metadata": {
    "collapsed": true
   },
   "outputs": [],
   "source": [
    "descs = descs[[\"uid\",\"ancestors\",\"tn\"]].copy()"
   ]
  },
  {
   "cell_type": "code",
   "execution_count": 6,
   "metadata": {},
   "outputs": [],
   "source": [
    "mapped_descs = set([doc[\"_id\"] for doc in db.medline.descs.mappings.aggregate([{\"$group\":{\"_id\":\"$uid\"}}])],\n",
    "                   allowDiskUse=True)"
   ]
  },
  {
   "cell_type": "code",
   "execution_count": 10,
   "metadata": {},
   "outputs": [],
   "source": [
    "descs = descs[descs.uid.isin(mapped_descs)].copy()"
   ]
  },
  {
   "cell_type": "code",
   "execution_count": 11,
   "metadata": {
    "collapsed": true
   },
   "outputs": [],
   "source": [
    "tn_data = []\n",
    "for row in descs[descs.tn.isnull()==False].itertuples():\n",
    "    for tn in row.tn:\n",
    "        tn_data.append({\"uid\":row.uid,\"tn\":tn})"
   ]
  },
  {
   "cell_type": "code",
   "execution_count": 12,
   "metadata": {
    "collapsed": true
   },
   "outputs": [],
   "source": [
    "an_data = []\n",
    "for row in descs[descs.tn.isnull()==False].itertuples():\n",
    "    for an in row.ancestors:\n",
    "        an_data.append({\"child\":row.uid,\"an_tn\":an})"
   ]
  },
  {
   "cell_type": "code",
   "execution_count": 13,
   "metadata": {
    "collapsed": true
   },
   "outputs": [],
   "source": [
    "an_map = pandas.DataFrame(an_data).merge(pandas.DataFrame(tn_data),left_on=\"an_tn\",right_on=\"tn\")[[\"child\",\"uid\"]]"
   ]
  },
  {
   "cell_type": "code",
   "execution_count": 14,
   "metadata": {
    "collapsed": true
   },
   "outputs": [],
   "source": [
    "an_map.columns = [\"uid\",\"ancestor\"]"
   ]
  },
  {
   "cell_type": "code",
   "execution_count": 15,
   "metadata": {
    "collapsed": true
   },
   "outputs": [],
   "source": [
    "pmids = [doc[\"_id\"] for doc in  db.medline.descs.mappings.aggregate([{\"$group\": {\"_id\":\"$pmid\"}}],\n",
    "                                                                         allowDiskUse=True)]"
   ]
  },
  {
   "cell_type": "code",
   "execution_count": 16,
   "metadata": {
    "collapsed": true
   },
   "outputs": [],
   "source": [
    "rc = Client()"
   ]
  },
  {
   "cell_type": "code",
   "execution_count": 17,
   "metadata": {},
   "outputs": [
    {
     "name": "stdout",
     "output_type": "stream",
     "text": [
      "importing pymongo on engine(s)\n"
     ]
    }
   ],
   "source": [
    "with rc[:].sync_imports():\n",
    "    import pymongo"
   ]
  },
  {
   "cell_type": "code",
   "execution_count": 20,
   "metadata": {
    "collapsed": true
   },
   "outputs": [],
   "source": [
    "for i in rc.ids:\n",
    "    rc[i].push({\"pmids\":pmids[(len(pmids)//len(rc.ids)+1)*i:(len(pmids)//len(rc.ids)+1)*(i+1)].copy(),\"an_map\":an_map})"
   ]
  },
  {
   "cell_type": "code",
   "execution_count": 21,
   "metadata": {
    "collapsed": true
   },
   "outputs": [],
   "source": [
    "%%px\n",
    "client = pymongo.MongoClient()\n",
    "db = client.swatford"
   ]
  },
  {
   "cell_type": "code",
   "execution_count": 22,
   "metadata": {
    "collapsed": true
   },
   "outputs": [],
   "source": [
    "def desc_ancestor_map():\n",
    "    to_insert = []\n",
    "    for i,pmid in enumerate(pmids):\n",
    "        uids = db.medline.descs.mappings.distinct(\"uid\",{\"pmid\":pmid})\n",
    "        ans = list(an_map[an_map.uid.isin(uids)].ancestor.values)\n",
    "        to_insert+=[{\"pmid\":pmid,\"uid\":uid} for uid in set(uids+ans)]\n",
    "        if i%10000==0:\n",
    "            db.medline.descs.ancestors.mappings.insert_many(to_insert)\n",
    "            to_insert = []\n",
    "            print(i)\n",
    "    db.medline.descs.ancestors.mappings.insert_many(to_insert)"
   ]
  },
  {
   "cell_type": "code",
   "execution_count": 23,
   "metadata": {
    "collapsed": true
   },
   "outputs": [],
   "source": [
    "ar = rc[:].apply_async(desc_ancestor_map)"
   ]
  },
  {
   "cell_type": "code",
   "execution_count": null,
   "metadata": {
    "collapsed": true
   },
   "outputs": [],
   "source": []
  },
  {
   "cell_type": "code",
   "execution_count": null,
   "metadata": {
    "collapsed": true
   },
   "outputs": [],
   "source": []
  },
  {
   "cell_type": "code",
   "execution_count": 32,
   "metadata": {
    "collapsed": true
   },
   "outputs": [],
   "source": [
    "ssi_list = pandas.read_pickle(\"../data/SSI/ssi_gene_list.p\")"
   ]
  },
  {
   "cell_type": "code",
   "execution_count": 34,
   "metadata": {},
   "outputs": [],
   "source": [
    "ssi_list.to_csv(\"../data/SSI/ssi_gene_list.csv\",index=False)"
   ]
  },
  {
   "cell_type": "code",
   "execution_count": 40,
   "metadata": {},
   "outputs": [
    {
     "name": "stdout",
     "output_type": "stream",
     "text": [
      "2950000\n",
      "2950000\n",
      "2950000\n",
      "2950000\n",
      "2950000\n",
      "2950000\n",
      "2950000\n",
      "2950000\n",
      "Total: 23600000, 23615049\n"
     ]
    }
   ],
   "source": [
    "total = 0\n",
    "for x in ar.stdout:\n",
    "    total += int(x.split(\"\\n\")[-2])\n",
    "    print(x.split(\"\\n\")[-2])\n",
    "print(f\"Total: {total}, \"+str(len(pmids)))"
   ]
  },
  {
   "cell_type": "code",
   "execution_count": 41,
   "metadata": {},
   "outputs": [
    {
     "data": {
      "text/plain": [
       "[datetime.datetime(2017, 6, 29, 8, 6, 21, 117389, tzinfo=tzlocal()),\n",
       " datetime.datetime(2017, 6, 29, 7, 55, 52, 165858, tzinfo=tzlocal()),\n",
       " datetime.datetime(2017, 6, 29, 8, 1, 6, 719720, tzinfo=tzlocal()),\n",
       " datetime.datetime(2017, 6, 29, 8, 9, 34, 650542, tzinfo=tzlocal()),\n",
       " datetime.datetime(2017, 6, 29, 7, 30, 36, 747849, tzinfo=tzlocal()),\n",
       " datetime.datetime(2017, 6, 29, 8, 4, 37, 505891, tzinfo=tzlocal()),\n",
       " datetime.datetime(2017, 6, 29, 8, 10, 23, 142609, tzinfo=tzlocal()),\n",
       " datetime.datetime(2017, 6, 29, 8, 10, 30, 627049, tzinfo=tzlocal())]"
      ]
     },
     "execution_count": 41,
     "metadata": {},
     "output_type": "execute_result"
    }
   ],
   "source": [
    "ar.completed"
   ]
  },
  {
   "cell_type": "code",
   "execution_count": null,
   "metadata": {
    "collapsed": true
   },
   "outputs": [],
   "source": []
  }
 ],
 "metadata": {
  "kernelspec": {
   "display_name": "Python 3",
   "language": "python",
   "name": "python3"
  },
  "language_info": {
   "codemirror_mode": {
    "name": "ipython",
    "version": 3
   },
   "file_extension": ".py",
   "mimetype": "text/x-python",
   "name": "python",
   "nbconvert_exporter": "python",
   "pygments_lexer": "ipython3",
   "version": "3.6.0"
  }
 },
 "nbformat": 4,
 "nbformat_minor": 2
}
